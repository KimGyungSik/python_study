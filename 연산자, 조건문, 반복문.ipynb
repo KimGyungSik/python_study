{
 "cells": [
  {
   "cell_type": "code",
   "execution_count": 3,
   "id": "initial_id",
   "metadata": {
    "collapsed": true,
    "ExecuteTime": {
     "end_time": "2024-07-17T03:38:48.273291900Z",
     "start_time": "2024-07-17T03:38:48.231921200Z"
    }
   },
   "outputs": [
    {
     "name": "stdout",
     "output_type": "stream",
     "text": [
      "Wode!\n",
      "Its a yeti\n",
      "its mavue\n"
     ]
    }
   ],
   "source": [
    "# 비교하기 : if,elif, else\n",
    "disaster = True\n",
    "if disaster:\n",
    "    print(\"Wode!\")\n",
    "else:\n",
    "    print(\"Whee!\")\n",
    "    \n",
    "furry = True\n",
    "large = True\n",
    "if furry:\n",
    "    if large:\n",
    "        print(\"Its a yeti\")\n",
    "    else:\n",
    "        print(\"Its a cat!\")\n",
    "else:\n",
    "    if large:\n",
    "        print(\"Its a yeti!!\")\n",
    "    else:\n",
    "        print(\"Its a dog!\")\n",
    "        \n",
    "\n",
    "color = \"mauve\"\n",
    "if color == \"red\":\n",
    "    print(\"Its atomato\")\n",
    "elif color == \"green\":\n",
    "    print(\"Its green\")\n",
    "elif color == \"purple\":\n",
    "    print(\"Tis purple\")\n",
    "else:\n",
    "    print(\"its mavue\")\n",
    "    \n",
    "# 두값이 같은지는 == 로 비교"
   ]
  },
  {
   "cell_type": "code",
   "execution_count": 7,
   "outputs": [
    {
     "name": "stdout",
     "output_type": "stream",
     "text": [
      "empty list\n",
      "o is a voewl\n",
      "A fitting\n"
     ]
    }
   ],
   "source": [
    "# True와 False\n",
    "# null, 정수0, 부동소수점 0 , 빈 문자열, 빈 리스트, 빈 튜플, 빈 딕셔너리, 빈 셋 모두 False\n",
    "\n",
    "some_list = []\n",
    "if some_list:\n",
    "    print(\"full list\")\n",
    "else:\n",
    "    print(\"empty list\")\n",
    "    \n",
    "# 여러개 비교하기 : in\n",
    "# 딕셔너리의 경우 값 대신 키를 본다\n",
    "\n",
    "vowels = 'aeiou'\n",
    "letter = 'o'\n",
    "letter in vowels\n",
    "\n",
    "if letter in vowels:\n",
    "    print(letter,'is a voewl')\n",
    "    \n",
    "# 새로운 기능 : 바다코끼리 연산자\n",
    "# 형식 -> 이름 := 표현식\n",
    "# for문과 while문에도 사용됨\n",
    "\n",
    "tweet_limit = 280\n",
    "tweet_string = \"Blah\"*50\n",
    "if diff := tweet_limit - len(tweet_string) >= 0:\n",
    "    print(\"A fitting\")\n",
    "else:\n",
    "    print(abs(diff))\n"
   ],
   "metadata": {
    "collapsed": false,
    "ExecuteTime": {
     "end_time": "2024-07-17T03:52:07.681875600Z",
     "start_time": "2024-07-17T03:52:07.655225300Z"
    }
   },
   "id": "a5f1b17467b8c76e"
  },
  {
   "cell_type": "code",
   "execution_count": 29,
   "outputs": [
    {
     "name": "stdout",
     "output_type": "stream",
     "text": [
      "1\n",
      "2\n",
      "3\n",
      "4\n",
      "5\n",
      "NO even number found\n",
      "t\n",
      "h\n",
      "u\n",
      "d\n",
      "t\n",
      "h\n",
      "u\n",
      "d\n",
      "not find x\n",
      "0\n",
      "1\n",
      "2\n",
      "[0, 1, 2]\n",
      "[0, 2, 4, 6, 8]\n",
      "[1,1]_________[1,5]\n",
      "___[2,2]___[2,4]___\n",
      "______[3,3]______\n",
      "___[4,2]___[4,4]___\n",
      "[5,1]_________[5,5]\n",
      "range(1, 6)\n",
      "[1, 2, 3, 4, 5]\n",
      "1 2 3 4 5 "
     ]
    },
    {
     "ename": "TypeError",
     "evalue": "'range' object does not support item assignment",
     "output_type": "error",
     "traceback": [
      "\u001B[1;31m---------------------------------------------------------------------------\u001B[0m",
      "\u001B[1;31mTypeError\u001B[0m                                 Traceback (most recent call last)",
      "Cell \u001B[1;32mIn[29], line 85\u001B[0m\n\u001B[0;32m     82\u001B[0m \u001B[38;5;66;03m#### 즉 자바의 String클래스와 유사\u001B[39;00m\n\u001B[0;32m     83\u001B[0m \u001B[38;5;66;03m#range 객체의 불변성\u001B[39;00m\n\u001B[0;32m     84\u001B[0m r \u001B[38;5;241m=\u001B[39m \u001B[38;5;28mrange\u001B[39m(\u001B[38;5;241m1\u001B[39m, \u001B[38;5;241m6\u001B[39m)\n\u001B[1;32m---> 85\u001B[0m r[\u001B[38;5;241m0\u001B[39m] \u001B[38;5;241m=\u001B[39m \u001B[38;5;241m10\u001B[39m  \u001B[38;5;66;03m# TypeError: 'range' object does not support item assignment\u001B[39;00m\n\u001B[0;32m     87\u001B[0m \u001B[38;5;66;03m# range 객체 생성\u001B[39;00m\n\u001B[0;32m     88\u001B[0m r \u001B[38;5;241m=\u001B[39m \u001B[38;5;28mrange\u001B[39m(\u001B[38;5;241m1\u001B[39m, \u001B[38;5;241m6\u001B[39m)\n",
      "\u001B[1;31mTypeError\u001B[0m: 'range' object does not support item assignment"
     ]
    }
   ],
   "source": [
    "# 반복문 : while과 for문\n",
    "\n",
    "# 반복하기: while\n",
    "# 1~5까지 반복\n",
    "count = 1\n",
    "while count<=5:\n",
    "    print(count)\n",
    "    count += 1\n",
    "# 중단하기 : break, 건너뛰기 : continue\n",
    "# while True:\n",
    "#     value = input(\"Integer, plases[q to quit] : \")\n",
    "#     if value == 'q' : #종료\n",
    "#         break\n",
    "#     number = input(value)\n",
    "#     if number%2 == 0: \n",
    "#         continue\n",
    "#     print(number,\"squared is\",number*number)\n",
    "\n",
    "# break 확인하기 : else\n",
    "# while문이 모두 실행되었지만 발견되지 못했을 떄는 else문이 실행됨\n",
    "# while문에서 else문은 그냥 브레이크 체커임\n",
    "numbers = [1,3,5]\n",
    "position = 0\n",
    "while position<len(numbers):\n",
    "    number = numbers[position]\n",
    "    if number%2 ==0:\n",
    "        print(number)\n",
    "        break\n",
    "    position += 1\n",
    "else: # break문이 호출되지 않은 경우\n",
    "    print(\"NO even number found\")\n",
    "    \n",
    "\n",
    "# 순회하기 : for와 in\n",
    "word = 'thud'\n",
    "for letter in word:\n",
    "    print(letter) \n",
    "\n",
    "# break 확인하기 : else \n",
    "# for문에서의 else문도 무언가를 찾지 못했다면 else문이 호출되는거임\n",
    "for letter in word:\n",
    "    if letter == 'x':\n",
    "        print(\"find x\")\n",
    "        break\n",
    "    print(letter)\n",
    "else:  # break문에 의해 반복문이 중단되지 않고 모든 항목을 순회했는지 확인할떄 유용\n",
    "    print(\"not find x\")\n",
    "    \n",
    "# 숫자 시퀀스 생성하기 : range()\n",
    "# range(start,stop,step) : 특정 범위 내에서 숫자 스트림을 반환\n",
    "# step을 -1로 지정하여 끝에서부터 거꾸로 진행가능\n",
    "# zip(), range()와 같은 함수는 순회 가능한 객체를 반환함 그래서 for ... in 형태로 값을 순회할 수 있는거임\n",
    "# range() 객체는 시작, 끝, 증가값만을 저장하고, 필요할 때만 숫자를 생성하여 메모리를 절약합니다.\n",
    "# 따라서 큰 범위의 숫자 시퀀스를 다룰 때 메모리 사용이 효율적입니다.\n",
    "for x in range(0,3):\n",
    "    print(x)\n",
    "\n",
    "print(list(range(0,3)))\n",
    "\n",
    "print(list(range(0,10,2)))\n",
    "\n",
    "for x in range(1,6):\n",
    "    for y in range(1,6):\n",
    "        if x+y==6 or x==y:\n",
    "            print(f'[{x},{y}]',end=\"\")\n",
    "        else: \n",
    "            print(\"___\",end=\"\")\n",
    "    print()\n",
    "\n",
    "#### chatGPT에게 질문 : range()함수는 읽기전용인가?\n",
    "#### Answer : 네, 파이썬의 range() 함수가 반환하는 range 객체는 읽기 전용입니다. range 객체는 불변(immutable)하며, 한 번 생성된 후에는 그 값을 변경할 수 없습니다. 이는 range 객체가 효율적으로 작동하고 메모리를 절약할 수 있게 합니다.\n",
    "r = range(1, 6)\n",
    "\n",
    "# range 객체 출력\n",
    "print(r)  # 출력: range(1, 6)\n",
    "\n",
    "# range 객체를 리스트로 변환하여 출력\n",
    "print(list(r))  # 출력: [1, 2, 3, 4, 5]\n",
    "\n",
    "# for 루프에서 range 객체 사용\n",
    "for i in r:\n",
    "    print(i, end=' ')  # 출력: 1 2 3 4 5\n",
    "    \n",
    "########### 즉 자바의 String클래스와 유사\n",
    "#######range 객체의 불변성\n",
    "r = range(1, 6)\n",
    "r[0] = 10  # TypeError: 'range' object does not support item assignment\n",
    "\n",
    "# range 객체 생성\n",
    "r = range(1, 6)\n",
    "\n",
    "# 슬라이싱된 range 객체 생성\n",
    "r2 = r[1:3]\n",
    "\n",
    "#######객체의 주소값 출력\n",
    "print(f\"주소값 비교: {id(r)} vs {id(r2)}\")  # 서로 다른 주소값 출력\n",
    "print(f\"r과 r2가 동일 객체인가? {r is r2}\")  # False 출력\n",
    "\n",
    "#r과 r2가 서로 다른 객체임을 보여줍니다. range 객체를 슬라이싱하면 새로운 range 객체가 생성되므로, 원본 range 객체와 슬라이싱된 range 객체는 다른 주소값을 가지며, 따라서 동일한 객체가 아닙니다.\n",
    "# 자바의 String클래스도 동일함\n",
    "\n",
    "# 공통점 요약\n",
    "# 불변성: 두 객체 모두 한 번 생성되면 변경할 수 없습니다.\n",
    "# 읽기 전용: 요소를 수정할 수 없습니다.\n",
    "# 이터러블: 두 객체 모두 순회가 가능합니다.\n",
    "# 인덱싱 및 슬라이싱: 각 객체의 요소에 접근하고 부분 문자열 또는 서브 시퀀스를 얻을 수 있습니다.\n",
    "\n",
    "\n"
   ],
   "metadata": {
    "collapsed": false,
    "ExecuteTime": {
     "end_time": "2024-07-17T06:36:11.885517700Z",
     "start_time": "2024-07-17T06:36:11.818345700Z"
    }
   },
   "id": "c53aee1d57bab856"
  },
  {
   "cell_type": "code",
   "execution_count": 28,
   "outputs": [
    {
     "name": "stdout",
     "output_type": "stream",
     "text": [
      "1\n",
      "[2, 3]\n",
      "1 2 3 4 5 False\n",
      "False\n"
     ]
    }
   ],
   "source": [
    "# 1. oop에서 '연산자'가 없어야함. 연산자는 모두 인터프리터에 의해 메서드로 변환해서 처리됨\n",
    "# - 3 + 5\n",
    "# - 3, 5 는 int 객체\n",
    "# - + int 객체의 __add__() 메서드\n",
    "# \n",
    "# 2. 3 + obj == obj + 3\n",
    "# - 가정 : obj에 __add__() 메서드가 없음, 하지만 둘 다 같은 값을 반환해야함\n",
    "# - (1) obj.__add__(3) 에러 -> 3.__radd(obj)__\n",
    "# - (2) 3.__add__(obj)\n",
    "# \n",
    "# \n",
    "# 3. is는 ==을 의미함\n",
    "# \n",
    "# 4. iterable은 iterator를 가지고 있음, iterator은 __next__() 를 가지고 있음\n",
    "#   - dir(range(0,3)) -> __iter__ 를 가지고 있음\n",
    "# \n",
    "# 5. 스크립트 언어의 장점 -> 매우 유연함\n",
    "# - iterator를 돌리는데 __next__()가 없어서 에러남, 그러면 동적으로 __next__() 추가할 수 있음\n",
    "# try :\n",
    "#     for (item in iterator) :\n",
    "#         print(item)\n",
    "# \n",
    "# except :\n",
    "#     iterator에 __next__ 메서드 추가해줌 \n"
   ],
   "metadata": {
    "collapsed": false,
    "ExecuteTime": {
     "end_time": "2024-07-17T06:32:58.386641300Z",
     "start_time": "2024-07-17T06:32:58.345925700Z"
    }
   },
   "id": "2b71f9e940315b5b"
  }
 ],
 "metadata": {
  "kernelspec": {
   "display_name": "Python 3",
   "language": "python",
   "name": "python3"
  },
  "language_info": {
   "codemirror_mode": {
    "name": "ipython",
    "version": 2
   },
   "file_extension": ".py",
   "mimetype": "text/x-python",
   "name": "python",
   "nbconvert_exporter": "python",
   "pygments_lexer": "ipython2",
   "version": "2.7.6"
  }
 },
 "nbformat": 4,
 "nbformat_minor": 5
}
