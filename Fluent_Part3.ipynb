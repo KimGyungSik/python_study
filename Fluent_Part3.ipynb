{
 "cells": [
  {
   "cell_type": "markdown",
   "source": [
    "## 일급 함수\n",
    "* ### 런타임에 생성할 수 있다\n",
    "* ### 데이터 구조체의 변수나 요소에 할당할 수 있다\n",
    "* ### 함수 인수로 전달할 수 있다\n",
    "* ### 함수 결과로 반환할 수 있다"
   ],
   "metadata": {
    "collapsed": false
   },
   "id": "956fca6b5d8eebc3"
  },
  {
   "cell_type": "code",
   "execution_count": 4,
   "id": "initial_id",
   "metadata": {
    "collapsed": true,
    "ExecuteTime": {
     "end_time": "2024-07-23T07:30:40.321321500Z",
     "start_time": "2024-07-23T07:30:40.305566400Z"
    }
   },
   "outputs": [
    {
     "data": {
      "text/plain": "[1, 1, 2, 6, 24, 120, 720, 5040, 40320, 362880, 3628800]"
     },
     "execution_count": 4,
     "metadata": {},
     "output_type": "execute_result"
    }
   ],
   "source": [
    "import inspect\n",
    "\n",
    "\n",
    "def factorial(n):\n",
    "    '''returns n'''\n",
    "    return 1 if n<2 else n * factorial(n-1)\n",
    "\n",
    "fact = factorial # 함수를 호출한 것이 아닌 함수를 fact 변수에 할당\n",
    "fact # <function __main__.factorial(n)>\n",
    "fact(5) # 120\n",
    "\n",
    "map(factorial,range(11)) # <map at 0x16b851abc40> -> factorial 함수를 0부터 10까지의 숫자에 적용한 결과를 반환하는 map 객체를 생성합니다. map 객체는 이터레이터이므로, 직접 출력하면 메모리 주소가 나타납니다.\n",
    "\n",
    "\n",
    "list(map(fact,range(11)))\n",
    "# list(map(fact, range(11)))는 0부터 10까지의 각 숫자에 대해 factorial 함수를 적용한 결과를 리스트로 변환하여 [1, 1, 2, 6, 24, 120, 720, 5040, 40320, 362880, 3628800]을 반환합니다."
   ]
  },
  {
   "cell_type": "markdown",
   "source": [
    "## 고위 함수\n",
    "* ### 함수를 인수로 받거나, 함수를 결과로 반환하는 함수를 고위함수 ex) map함수, sort함수\n"
   ],
   "metadata": {
    "collapsed": false
   },
   "id": "c6eab02fbb9cd76"
  },
  {
   "cell_type": "code",
   "execution_count": 7,
   "outputs": [
    {
     "data": {
      "text/plain": "['banana', 'apple', 'fig', 'raspberry', 'strawberry', 'cherry']"
     },
     "execution_count": 7,
     "metadata": {},
     "output_type": "execute_result"
    }
   ],
   "source": [
    "fruits = ['strawberry','fig','apple','cherry','raspberry','banana']\n",
    "sorted(fruits,key=len)\n",
    "\n",
    "# 람다를 이용한 역순정렬\n",
    "sorted(fruits,key=lambda word:word[::-1])"
   ],
   "metadata": {
    "collapsed": false,
    "ExecuteTime": {
     "end_time": "2024-07-23T08:15:10.036529300Z",
     "start_time": "2024-07-23T08:15:10.010540300Z"
    }
   },
   "id": "807d6367c59d7876"
  },
  {
   "cell_type": "code",
   "execution_count": null,
   "outputs": [],
   "source": [
    "import random\n",
    "\n",
    "class BingoCage:\n",
    "    def __init__(self,items):\n",
    "        self._items = list(items)\n",
    "        random.shuffle(self._items)\n",
    "        \n",
    "    def pick(self):\n",
    "        try:\n",
    "            return self._items.pop()\n",
    "        except IndexError:\n",
    "            raise LookupError('pick from empty BingoCage')\n",
    "        \n",
    "    def __call__(self):\n",
    "        return self.pick()\n",
    "    \n",
    "    \n",
    "bingo = BingoCage(range(3))\n",
    "bingo()\n",
    "bingo()\n",
    "bingo() \n"
   ],
   "metadata": {
    "collapsed": false
   },
   "id": "a9ecf752620e7eac"
  },
  {
   "cell_type": "markdown",
   "source": [
    "## 일급 함수 디자인 패턴\n",
    "* ### 일급 함수를 지원하는 언어에서는 전략,명령,템플릿 메서드,비지터 패턴을 눈여겨 봐야함"
   ],
   "metadata": {
    "collapsed": false
   },
   "id": "277bee93e3e65e21"
  },
  {
   "cell_type": "code",
   "execution_count": null,
   "outputs": [],
   "source": [
    "from abc import ABC, abstractmethod\n",
    "from collections import namedtuple\n",
    "\n",
    "Customer = namedtuple('Customer','name fidelity')\n",
    "\n",
    "class LineItem:\n",
    "    def __init__(self,product,quantity,price):\n",
    "        self.product = product\n",
    "        self.quantity = quantity\n",
    "        self.price = price\n",
    "\n",
    "    def total(self):\n",
    "        return self.price * self.quantity\n",
    "\n",
    "class Order:\n",
    "    def __init__(self,customer,cart,promotion=None):\n",
    "        self.customer = customer\n",
    "        self.cart = cart\n",
    "        self.promotion = promotion\n",
    "\n",
    "    def total(self):\n",
    "        if not hasattr(self,'_total'):\n",
    "            self.__total = sum(item.total() for item in self.cart)\n",
    "        return self.__total\n",
    "\n",
    "    def due(self):\n",
    "        if self.promotion is None:\n",
    "            discount = 0\n",
    "        else:\n",
    "            discount = self.promotion.discount(self)\n",
    "        return self.total() - discount\n",
    "    def __repr__(self):\n",
    "        fmt = '<Order total: {:.2f} due:{: 2f}>'\n",
    "        return fmt.format(self.total(),self.due())\n",
    "\n",
    "class Promotion(ABC): # 전략:추상 베이스 클래스\n",
    "    @abstractmethod\n",
    "    def discount(self,order):\n",
    "        \"\"\"할인액을 구체적인 숫자로 반환한다\"\"\"\n",
    "\n",
    "class FidelityPromo(Promotion): # 전략객체\n",
    "    \"\"\"충성도 포인트가 1000점 이상인 고객에게 전체 5% 할인 적용\"\"\"\n",
    "\n",
    "    def discount(self,order):\n",
    "        return order.total() * .05 if order.customer.fidelity >= 1000 else 0\n",
    "\n",
    "class BulkItemPromo(Promotion):\n",
    "    \"\"\"20개 이상의 동일 상품을 구입하면 10% 할인 적용\"\"\"\n",
    "\n",
    "    def discount(self,order): # 전략객체\n",
    "        discount = 0\n",
    "        for item in order.cart:\n",
    "            if item.quantity >= 20:\n",
    "                discount += item.total() * .1\n",
    "        return discount\n",
    "\n",
    "class LargeOrderPromo(Promotion): # 전략객체\n",
    "    \"\"\"10종류 이상의 상품을 구입하면 10% 할인 적용\"\"\"\n",
    "\n",
    "    def discount(self,order):\n",
    "        distinct_items = {item.product for item in order.cart}\n",
    "        if len(distinct_items) >= 10:\n",
    "            return order.total()* .07\n",
    "        return 0\n",
    "\n",
    "joe = Customer('John Doe',0)\n",
    "ann = Customer('Ann Smith', 1100)\n",
    "cart = [LineItem('banana', 4, .5),\n",
    "        LineItem('apple',10, 1.5),\n",
    "        LineItem('watermellon',5,5.0)]\n",
    "o1 = Order(joe,cart,FidelityPromo())\n",
    "o2 = Order(ann,cart,FidelityPromo())\n",
    "print(o1,o2)"
   ],
   "metadata": {
    "collapsed": false
   },
   "id": "bedf5d4d222cc14c"
  },
  {
   "cell_type": "markdown",
   "source": [
    "* ### 함수지향 전략\n",
    "* ### 전략 객체는 상태(객체 속성)를 가지고 있지 않음 \n",
    "* ### 플라이웨이트 : 여러 콘텍스트에서 동시에 사용할 수 있는 공유 객체\n",
    "* ### 함수는 파이썬이 모듈을 컴파일할 떄 단 한번만 생성되므로 플라이웨이트가 필요없음\n",
    "* ### 일반 함수도 '여러 콘텍스트에서 동시에 공유할 수 있는 공유 객체'임"
   ],
   "metadata": {
    "collapsed": false
   },
   "id": "9e82bacc16de2620"
  },
  {
   "cell_type": "code",
   "execution_count": 2,
   "outputs": [
    {
     "data": {
      "text/plain": "<Order total: 10.00 due: 9.300000>"
     },
     "execution_count": 2,
     "metadata": {},
     "output_type": "execute_result"
    }
   ],
   "source": [
    "from collections import namedtuple\n",
    "\n",
    "Customer = namedtuple('Customer','name fidelity')\n",
    "\n",
    "class LineItem:\n",
    "    def __init__(self,product,quantity,price):\n",
    "        self.product = product\n",
    "        self.quantity = quantity\n",
    "        self.price = price\n",
    "\n",
    "    def total(self):\n",
    "        return self.price * self.quantity\n",
    "\n",
    "class Order:  # Context\n",
    "    def __init__(self,customer,cart,promotion=None):\n",
    "        self.customer = customer\n",
    "        self.cart = cart\n",
    "        self.promotion = promotion # 할인 전략 주입\n",
    "\n",
    "    def total(self):\n",
    "        if not hasattr(self,'_total'):\n",
    "            self.__total = sum(item.total() for item in self.cart)\n",
    "        return self.__total\n",
    "\n",
    "    def due(self):\n",
    "        if self.promotion is None:\n",
    "            discount = 0\n",
    "        else:\n",
    "            discount = self.promotion(self)\n",
    "        return self.total() - discount\n",
    "    def __repr__(self):\n",
    "        fmt = '<Order total: {:.2f} due:{: 2f}>'\n",
    "        return fmt.format(self.total(),self.due())\n",
    "\n",
    "def fidelity_promo(order): # 전략객체\n",
    "    \"\"\"충성도 포인트가 1000점 이상인 고객에게 전체 5% 할인 적용\"\"\"\n",
    "    return order.total() * .05 if order.customer.fidelity >= 1000 else 0\n",
    "\n",
    "\n",
    "def bulk_item_promo(order):\n",
    "    \"\"\"20개 이상의 동일 상품을 구입하면 10% 할인 적용\"\"\"\n",
    "    discount = 0\n",
    "    for item in order.cart:\n",
    "        if item.quantity >= 20:\n",
    "            discount += item.total() * .1\n",
    "    return discount\n",
    "\n",
    "def large_order_promo(order): # 전략객체\n",
    "    \"\"\"10종류 이상의 상품을 구입하면 7% 할인 적용\"\"\"\n",
    "    distinct_items = {item.product for item in order.cart}\n",
    "    if len(distinct_items) >= 10:\n",
    "        return order.total()* .07\n",
    "    return 0"
   ],
   "metadata": {
    "collapsed": false,
    "ExecuteTime": {
     "end_time": "2024-07-25T06:58:25.785720700Z",
     "start_time": "2024-07-25T06:58:25.735719900Z"
    }
   },
   "id": "b778478ea4056db2"
  },
  {
   "cell_type": "markdown",
   "source": [
    "* ## 최선의 전략 선택하기 : 단순한 접근법\n",
    "* ### 문제점 : 새로운 할인 전략을 추가하려면 함수를 코딩하고 이 함수를 promos 리스트에 추가해야함 아니면 새로운 할인 함수를 Order 객체에 인수로 전달해서 작동시킬 수 있지만, 이때 best_promo()는 새로운 할인 함수를 고려하지 않는다 "
   ],
   "metadata": {
    "collapsed": false
   },
   "id": "a4c1e0518c446fe5"
  },
  {
   "cell_type": "code",
   "execution_count": null,
   "outputs": [],
   "source": [
    "promos = [fidelity_promo,bulk_item_promo,large_order_promo]\n",
    "\n",
    "def best_promo(order):\n",
    "    \"\"\"최대로 할인받을 금액을 반환한다\"\"\"\n",
    "    return max(promo(order) for promo in promos)\n",
    "\n",
    "joe = Customer('John Doe', 0)\n",
    "long_order = [LineItem(str(item_code),1,1.0)\n",
    "              for item_code in range(10)]\n",
    "\n",
    "\n",
    "Order(joe,long_order,best_promo)"
   ],
   "metadata": {
    "collapsed": false
   },
   "id": "459626121396a45a"
  },
  {
   "cell_type": "markdown",
   "source": [
    "* ## 모듈에서 전략 찾기\n",
    "* ### 파이썬 모듈도 일급 객체\n",
    "* ### globals() 내장 함수를 활용하여 best_promo()가 자동으로 다른 promo함수를 찾아내게 한다"
   ],
   "metadata": {
    "collapsed": false
   },
   "id": "8b0b47df27214f9"
  },
  {
   "cell_type": "code",
   "execution_count": 3,
   "outputs": [
    {
     "data": {
      "text/plain": "<Order total: 10.00 due: 9.300000>"
     },
     "execution_count": 3,
     "metadata": {},
     "output_type": "execute_result"
    }
   ],
   "source": [
    "promos = [globals()[name] for name in globals()\n",
    "          if name.endswith('_promo')\n",
    "          and name != 'best_promo']\n",
    "\n",
    "def best_promo(order):\n",
    "    return max(promo(order) for promo in promos)\n",
    "\n",
    "joe = Customer('John Doe', 0)\n",
    "long_order = [LineItem(str(item_code),1,1.0)\n",
    "              for item_code in range(10)]\n",
    "\n",
    "\n",
    "Order(joe,long_order,best_promo)"
   ],
   "metadata": {
    "collapsed": false,
    "ExecuteTime": {
     "end_time": "2024-07-25T07:08:26.224461900Z",
     "start_time": "2024-07-25T07:08:26.187975100Z"
    }
   },
   "id": "9b5605cdb1a32c0b"
  },
  {
   "cell_type": "code",
   "execution_count": null,
   "outputs": [],
   "source": [
    "# 새로운 promotinos 모듈을 내부 조사해서 만든 promos 리스트\n",
    "# promos = [func for name, func in \n",
    "#           inspect.getmembers(promotions,inspect.isfunction)]\n",
    "# \n",
    "# def best_promo(order):\n",
    "#     return max(promo(order) for promo in promos)\n",
    "\n",
    "\n",
    "\"\"\"\n",
    "함수를 인수로 전달하는 기법을 사용하면 명령 디자인 패턴도 구현을 단순화 할 수 있음\n",
    "- Command 패턴의 목적 : 연산을 실행하는 객체(호출차, Invoker)와 연산을 구현하는 객체(수신자, Receiver)를 분리함\n",
    "- 명령 객체를 수신자와 호출자 사이에 놓고, 명령은 execute() 라는 단 하나의 메서드로 인터페이스를 구현함\n",
    "- Command 객체 대신 간단히 함수를 바로 지정할 수 있음, 호출자는 command()로 사용할 수 있음. MacroCommand의 객체는 콜러블이 됨\n",
    "\"\"\"\n",
    "\n",
    "class Menu : \n",
    "    \n",
    "    def __init__(self, macro_command) : \n",
    "        self.macro_command = macro_command\n",
    "        \n",
    "    def show_total_order(self) :\n",
    "        print(\"== show total command!! ==\")\n",
    "        self.macro_command()\n",
    "        \n",
    "\n",
    "class MacroCommand : \n",
    "    \"\"\"명령 리스트를 실행하는 명려\"\"\"\n",
    "    \n",
    "    def __init__(self, commands) :\n",
    "        self.commands = list(commands)\n",
    "        \n",
    "    def __call__(self) : \n",
    "        for c in self.commands : \n",
    "            c()\n",
    "            \n",
    "# 하나의 Command\n",
    "def order_pizza_command() : \n",
    "    print(\"order pizza\")\n",
    "    \n",
    "def order_chiken_command() : \n",
    "    print(\"order chiken\")\n",
    "    \n",
    "def order_coke_command() :\n",
    "    print(\"order coke\")\n",
    "    \n",
    "commands = [globals()[name] for name in globals() if name.endswith('_command') ]\n",
    "macro = MacroCommand(commands)\n",
    "menu = Menu(macro)\n",
    "menu.show_total_order()"
   ],
   "metadata": {
    "collapsed": false
   },
   "id": "6757bdc400f685a5"
  },
  {
   "cell_type": "markdown",
   "source": [
    "* ## 함수 데커레이터와 클로저\n",
    "* ### 데커레이터 : 다른 함수를 인수로 받는 콜러블(데커레이트된 함수)이다.\n",
    "* ### 데커레이터는 편리 구문일 뿐 / 런타임에 프로그램 행위를 변경하는 메타프로그래밍을 할때 데커레이터는 상당히 편리\n",
    "* ### 데커레이터는 데커레이트된 함수를 다른 함수로 대체하는 능력이 있다\n",
    "* ### 데커레이터는 모듈이 로딩될 떄 바로 실행된다"
   ],
   "metadata": {
    "collapsed": false
   },
   "id": "a0cf7e1d711ffd97"
  },
  {
   "cell_type": "code",
   "execution_count": 7,
   "outputs": [
    {
     "name": "stdout",
     "output_type": "stream",
     "text": [
      "running inner()\n"
     ]
    },
    {
     "data": {
      "text/plain": "<function __main__.deco.<locals>.inner()>"
     },
     "execution_count": 7,
     "metadata": {},
     "output_type": "execute_result"
    }
   ],
   "source": [
    "# @decorate\n",
    "# def target():\n",
    "#     print('running target()')\n",
    "#     \n",
    "# def target():\n",
    "#     print('running target()')\n",
    "# target = decorate(target)\n",
    "\n",
    "\n",
    "def deco(func):\n",
    "    def inner():\n",
    "        print('running inner()')\n",
    "    return inner\n",
    "\n",
    "@deco\n",
    "def target():\n",
    "    print('running target()')\n",
    "    \n",
    "target()\n",
    "target # target이 inner()를 가르키고 있음"
   ],
   "metadata": {
    "collapsed": false,
    "ExecuteTime": {
     "end_time": "2024-07-25T07:59:44.393695300Z",
     "start_time": "2024-07-25T07:59:44.341Z"
    }
   },
   "id": "c35cbd59ff64bb7d"
  },
  {
   "cell_type": "markdown",
   "source": [
    "* ## 파이썬이 데커레이터를 실행하는 시점\n",
    "* ### 데커레이터의 핵심 특징은 데커레이트된 함수가 정의된 직후에 실행된다는 것 즉, 임포트 타임에 실행된다\n",
    "* "
   ],
   "metadata": {
    "collapsed": false
   },
   "id": "9fda6db46f00c5f"
  }
 ],
 "metadata": {
  "kernelspec": {
   "display_name": "Python 3",
   "language": "python",
   "name": "python3"
  },
  "language_info": {
   "codemirror_mode": {
    "name": "ipython",
    "version": 2
   },
   "file_extension": ".py",
   "mimetype": "text/x-python",
   "name": "python",
   "nbconvert_exporter": "python",
   "pygments_lexer": "ipython2",
   "version": "2.7.6"
  }
 },
 "nbformat": 4,
 "nbformat_minor": 5
}
