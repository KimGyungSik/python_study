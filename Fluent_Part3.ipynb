{
 "cells": [
  {
   "cell_type": "markdown",
   "source": [
    "## 일급 함수\n",
    "* ### 런타임에 생성할 수 있다\n",
    "* ### 데이터 구조체의 변수나 요소에 할당할 수 있다\n",
    "* ### 함수 인수로 전달할 수 있다\n",
    "* ### 함수 결과로 반환할 수 있다"
   ],
   "metadata": {
    "collapsed": false
   },
   "id": "956fca6b5d8eebc3"
  },
  {
   "cell_type": "code",
   "execution_count": 4,
   "id": "initial_id",
   "metadata": {
    "collapsed": true,
    "ExecuteTime": {
     "end_time": "2024-07-23T07:30:40.321321500Z",
     "start_time": "2024-07-23T07:30:40.305566400Z"
    }
   },
   "outputs": [
    {
     "data": {
      "text/plain": "[1, 1, 2, 6, 24, 120, 720, 5040, 40320, 362880, 3628800]"
     },
     "execution_count": 4,
     "metadata": {},
     "output_type": "execute_result"
    }
   ],
   "source": [
    "def factorial(n):\n",
    "    '''returns n'''\n",
    "    return 1 if n<2 else n * factorial(n-1)\n",
    "\n",
    "fact = factorial # 함수를 호출한 것이 아닌 함수를 fact 변수에 할당\n",
    "fact # <function __main__.factorial(n)>\n",
    "fact(5) # 120\n",
    "\n",
    "map(factorial,range(11)) # <map at 0x16b851abc40> -> factorial 함수를 0부터 10까지의 숫자에 적용한 결과를 반환하는 map 객체를 생성합니다. map 객체는 이터레이터이므로, 직접 출력하면 메모리 주소가 나타납니다.\n",
    "\n",
    "\n",
    "list(map(fact,range(11)))\n",
    "# list(map(fact, range(11)))는 0부터 10까지의 각 숫자에 대해 factorial 함수를 적용한 결과를 리스트로 변환하여 [1, 1, 2, 6, 24, 120, 720, 5040, 40320, 362880, 3628800]을 반환합니다."
   ]
  },
  {
   "cell_type": "markdown",
   "source": [
    "## 고위 함수\n",
    "* ### 함수를 인수로 받거나, 함수를 결과로 반환하는 함수를 고위함수 ex) map함수, sort함수\n"
   ],
   "metadata": {
    "collapsed": false
   },
   "id": "c6eab02fbb9cd76"
  },
  {
   "cell_type": "code",
   "execution_count": 7,
   "outputs": [
    {
     "data": {
      "text/plain": "['banana', 'apple', 'fig', 'raspberry', 'strawberry', 'cherry']"
     },
     "execution_count": 7,
     "metadata": {},
     "output_type": "execute_result"
    }
   ],
   "source": [
    "fruits = ['strawberry','fig','apple','cherry','raspberry','banana']\n",
    "sorted(fruits,key=len)\n",
    "\n",
    "# 람다를 이용한 역순정렬\n",
    "sorted(fruits,key=lambda word:word[::-1])"
   ],
   "metadata": {
    "collapsed": false,
    "ExecuteTime": {
     "end_time": "2024-07-23T08:15:10.036529300Z",
     "start_time": "2024-07-23T08:15:10.010540300Z"
    }
   },
   "id": "807d6367c59d7876"
  },
  {
   "cell_type": "code",
   "execution_count": null,
   "outputs": [],
   "source": [
    "import random\n",
    "\n",
    "class BingoCage:\n",
    "    def __init__(self,items):\n",
    "        self._items = list(items)\n",
    "        random.shuffle(self._items)\n",
    "        \n",
    "    def pick(self):\n",
    "        try:\n",
    "            return self._items.pop()\n",
    "        except IndexError:\n",
    "            raise LookupError('pick from empty BingoCage')\n",
    "        \n",
    "    def __call__(self):\n",
    "        return self.pick()\n",
    "    \n",
    "    \n",
    "bingo = BingoCage(range(3))\n",
    "bingo()\n",
    "bingo()\n",
    "bingo() \n"
   ],
   "metadata": {
    "collapsed": false
   },
   "id": "a9ecf752620e7eac"
  },
  {
   "cell_type": "markdown",
   "source": [
    "## 일급 함수 디자인 패턴\n",
    "* ### 일급 함수를 지원하는 언어에서는 전략,명령,템플릿 메서드,비지터 패턴을 눈여겨 봐야함"
   ],
   "metadata": {
    "collapsed": false
   },
   "id": "277bee93e3e65e21"
  },
  {
   "cell_type": "code",
   "execution_count": null,
   "outputs": [],
   "source": [
    "from abc import ABC, abstractmethod\n",
    "from collections import namedtuple\n",
    "\n",
    "Customer = namedtuple('Customer','name fidelity')\n",
    "\n",
    "class LineItem:\n",
    "    def __init__(self,product,quantity,price):\n",
    "        self.product = product\n",
    "        self.quantity = quantity\n",
    "        self.price = price\n",
    "\n",
    "    def total(self):\n",
    "        return self.price * self.quantity\n",
    "\n",
    "class Order:\n",
    "    def __init__(self,customer,cart,promotion=None):\n",
    "        self.customer = customer\n",
    "        self.cart = cart\n",
    "        self.promotion = promotion\n",
    "\n",
    "    def total(self):\n",
    "        if not hasattr(self,'_total'):\n",
    "            self.__total = sum(item.total() for item in self.cart)\n",
    "        return self.__total\n",
    "\n",
    "    def due(self):\n",
    "        if self.promotion is None:\n",
    "            discount = 0\n",
    "        else:\n",
    "            discount = self.promotion.discount(self)\n",
    "        return self.total() - discount\n",
    "    def __repr__(self):\n",
    "        fmt = '<Order total: {:.2f} due:{: 2f}>'\n",
    "        return fmt.format(self.total(),self.due())\n",
    "\n",
    "class Promotion(ABC): # 전략:추상 베이스 클래스\n",
    "    @abstractmethod\n",
    "    def discount(self,order):\n",
    "        \"\"\"할인액을 구체적인 숫자로 반환한다\"\"\"\n",
    "\n",
    "class FidelityPromo(Promotion): # 전략객체\n",
    "    \"\"\"충성도 포인트가 1000점 이상인 고객에게 전체 5% 할인 적용\"\"\"\n",
    "\n",
    "    def discount(self,order):\n",
    "        return order.total() * .05 if order.customer.fidelity >= 1000 else 0\n",
    "\n",
    "class BulkItemPromo(Promotion):\n",
    "    \"\"\"20개 이상의 동일 상품을 구입하면 10% 할인 적용\"\"\"\n",
    "\n",
    "    def discount(self,order): # 전략객체\n",
    "        discount = 0\n",
    "        for item in order.cart:\n",
    "            if item.quantity >= 20:\n",
    "                discount += item.total() * .1\n",
    "        return discount\n",
    "\n",
    "class LargeOrderPromo(Promotion): # 전략객체\n",
    "    \"\"\"10종류 이상의 상품을 구입하면 10% 할인 적용\"\"\"\n",
    "\n",
    "    def discount(self,order):\n",
    "        distinct_items = {item.product for item in order.cart}\n",
    "        if len(distinct_items) >= 10:\n",
    "            return order.total()* .07\n",
    "        return 0\n",
    "\n",
    "joe = Customer('John Doe',0)\n",
    "ann = Customer('Ann Smith', 1100)\n",
    "cart = [LineItem('banana', 4, .5),\n",
    "        LineItem('apple',10, 1.5),\n",
    "        LineItem('watermellon',5,5.0)]\n",
    "o1 = Order(joe,cart,FidelityPromo())\n",
    "o2 = Order(ann,cart,FidelityPromo())\n",
    "print(o1,o2)"
   ],
   "metadata": {
    "collapsed": false
   },
   "id": "bedf5d4d222cc14c"
  },
  {
   "cell_type": "markdown",
   "source": [
    "* ### 함수지향 전략\n",
    "* ### 전략 객체는 상태(객체 속성)를 가지고 있지 않음 \n",
    "* ### 플라이웨이트 : 여러 콘텍스트에서 동시에 사용할 수 있는 공유 객체\n",
    "* ### 함수는 파이썬이 모듈을 컴파일할 떄 단 한번만 생성되므로 플라이웨이트가 필요없음\n",
    "* ### 일반 함수도 '여러 콘텍스트에서 동시에 공유할 수 있는 공유 객체'임"
   ],
   "metadata": {
    "collapsed": false
   },
   "id": "9e82bacc16de2620"
  },
  {
   "cell_type": "code",
   "execution_count": null,
   "outputs": [],
   "source": [
    "from collections import namedtuple\n",
    "\n",
    "Customer = namedtuple('Customer','name fidelity')\n",
    "\n",
    "class LineItem:\n",
    "    def __init__(self,product,quantity,price):\n",
    "        self.product = product\n",
    "        self.quantity = quantity\n",
    "        self.price = price\n",
    "\n",
    "    def total(self):\n",
    "        return self.price * self.quantity\n",
    "\n",
    "class Order:  # Context\n",
    "    def __init__(self,customer,cart,promotion=None):\n",
    "        self.customer = customer\n",
    "        self.cart = cart\n",
    "        self.promotion = promotion # 할인 전략 주입\n",
    "\n",
    "    def total(self):\n",
    "        if not hasattr(self,'_total'):\n",
    "            self.__total = sum(item.total() for item in self.cart)\n",
    "        return self.__total\n",
    "\n",
    "    def due(self):\n",
    "        if self.promotion is None:\n",
    "            discount = 0\n",
    "        else:\n",
    "            discount = self.promotion(self)\n",
    "        return self.total() - discount\n",
    "    def __repr__(self):\n",
    "        fmt = '<Order total: {:.2f} due:{: 2f}>'\n",
    "        return fmt.format(self.total(),self.due())\n",
    "\n",
    "def fidelity_promo(order): # 전략객체\n",
    "    \"\"\"충성도 포인트가 1000점 이상인 고객에게 전체 5% 할인 적용\"\"\"\n",
    "    return order.total() * .05 if order.customer.fidelity >= 1000 else 0\n",
    "\n",
    "\n",
    "def bulk_item_promo(order):\n",
    "    \"\"\"20개 이상의 동일 상품을 구입하면 10% 할인 적용\"\"\"\n",
    "    discount = 0\n",
    "    for item in order.cart:\n",
    "        if item.quantity >= 20:\n",
    "            discount += item.total() * .1\n",
    "    return discount\n",
    "\n",
    "def LargeOrderPromo(order): # 전략객체\n",
    "    \"\"\"10종류 이상의 상품을 구입하면 10% 할인 적용\"\"\"\n",
    "    distinct_items = {item.product for item in order.cart}\n",
    "    if len(distinct_items) >= 10:\n",
    "        return order.total()* .07\n",
    "    return 0"
   ],
   "metadata": {
    "collapsed": false
   },
   "id": "b778478ea4056db2"
  }
 ],
 "metadata": {
  "kernelspec": {
   "display_name": "Python 3",
   "language": "python",
   "name": "python3"
  },
  "language_info": {
   "codemirror_mode": {
    "name": "ipython",
    "version": 2
   },
   "file_extension": ".py",
   "mimetype": "text/x-python",
   "name": "python",
   "nbconvert_exporter": "python",
   "pygments_lexer": "ipython2",
   "version": "2.7.6"
  }
 },
 "nbformat": 4,
 "nbformat_minor": 5
}
