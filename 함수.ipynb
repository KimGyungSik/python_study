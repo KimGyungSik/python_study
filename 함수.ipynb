{
 "cells": [
  {
   "cell_type": "markdown",
   "source": [
    "## 프로그램 언어의 로직을 그룹핑 하는 방식\n",
    "\n",
    "- ### 절차형 방법에서는 코드의 묶음을 하나의  프로시저 또는 서브루틴\n",
    "- ### 함수형 방법에서는 코드의 묶음을 함수\n",
    "- ### 객체지향 방법에서는 코드의 묶음을 클래스(변수와 함수를 하나로 묶음)\n",
    "\n",
    "## 함수\n",
    "\n",
    "- ### 순수함수 : 외부에 영향 X\n",
    "- ### 비순수함수 : 외부에 영향 O\n",
    "- ### FP의 중요한 2가지 : 불변(thread-safe), 순수함수"
   ],
   "metadata": {
    "collapsed": false
   },
   "id": "b6a1fe1873a8925f"
  },
  {
   "cell_type": "code",
   "execution_count": 4,
   "id": "initial_id",
   "metadata": {
    "collapsed": true,
    "ExecuteTime": {
     "end_time": "2024-07-18T08:22:10.047395800Z",
     "start_time": "2024-07-18T08:22:10.039461500Z"
    }
   },
   "outputs": [
    {
     "name": "stdout",
     "output_type": "stream",
     "text": [
      "None\n"
     ]
    }
   ],
   "source": [
    "## 함수 호출하기 : ()\n",
    "\n",
    "def do_nothing():\n",
    "    pass # 아무것도 하지않는다는 것을 의미\n",
    "\n",
    "do_nothing()\n",
    "print(do_nothing())"
   ]
  },
  {
   "cell_type": "code",
   "execution_count": 3,
   "outputs": [
    {
     "data": {
      "text/plain": "'run run'"
     },
     "execution_count": 3,
     "metadata": {},
     "output_type": "execute_result"
    }
   ],
   "source": [
    "## 인수와 매개변수\n",
    "\n",
    "def echo(anything):\n",
    "    return anything + ' ' + anything\n",
    "\n",
    "echo('run')"
   ],
   "metadata": {
    "collapsed": false,
    "ExecuteTime": {
     "end_time": "2024-07-18T08:20:33.296708500Z",
     "start_time": "2024-07-18T08:20:33.279314600Z"
    }
   },
   "id": "74109b0084b6608e"
  },
  {
   "cell_type": "code",
   "execution_count": 19,
   "outputs": [
    {
     "name": "stdout",
     "output_type": "stream",
     "text": [
      "['a']\n",
      "['a', 'b']\n",
      "['a']\n",
      "['b']\n",
      "Positional tuple: ()\n",
      "Positional tuple: (3, 2, 1, 'wait!', '2')\n",
      "Positional tuple: ((2, 5, 1),)\n",
      "Positional tuple: (2, 5, 1)\n",
      "Keyword arguments: {'wine': 'merlot', 'entree': 'mutton', 'dessert': 'marcaronn'}\n",
      "3\n",
      "4\n",
      "5\n",
      "6\n",
      "1\n",
      "2\n",
      "Help on function echo in module __main__:\n",
      "\n",
      "echo(anything)\n",
      "    echo returns its input argument\n",
      "\n",
      "echo returns its input argument\n"
     ]
    }
   ],
   "source": [
    "## 유용한 None\n",
    "# None 은 아무것도 없다는 것\n",
    "# None과 False는 다르다 \n",
    "\n",
    "## 위치 인수 \n",
    "# 위치 인수의 단점 : 인수의 각 위치에 대한 의미를 알아야 한다는 것\n",
    "\n",
    "## 키워드 인수 (이름=값)\n",
    "# 매개변수에 상응하는 이름을 인수에 지정하는 것 \n",
    "\n",
    "## 기본 매개변수 값 지정하기\n",
    "def menu(wine,entree,dessert='pudding'): # dessert 인수를 제공하지 않으면 기본인수 대입\n",
    "    return {'wine':wine,'entree':entree, 'dessert':dessert}\n",
    "\n",
    "# 기본값이 가변 객체인 경우, 해당 객체는 모든 함수 호출 간에 공유\n",
    "def buggy(arg,result=[]):\n",
    "    result.append(arg)\n",
    "    print(result)\n",
    "    \n",
    "buggy('a') # ['a']\n",
    "buggy('b') # ['a', 'b']\n",
    "\n",
    "# 해결방법\n",
    "def buggy(arg, result=None):\n",
    "    if result is None:\n",
    "        result = []\n",
    "    result.append(arg)\n",
    "    print(result)\n",
    "\n",
    "# 함수 호출\n",
    "buggy('a')  # 출력: ['a']\n",
    "buggy('b')  # 출력: ['b']\n",
    "\n",
    "## 위치 인수 분해하기/모으기:  * \n",
    "#  -> 매개변수에서 위치 인수 변수를 튜플로 묶음 (가변인수) / 함수 호출 또는 정의에서만 * 구문을 사용할 수 있음\n",
    "def print_args(*args):\n",
    "    print('Positional tuple:',args)\n",
    "    \n",
    "print_args()\n",
    "print_args(3,2,1,'wait!','2') # Positional tuple: (3, 2, 1, 'wait!', '2')\n",
    "args = (2,5,1)\n",
    "print_args(args) # Positional tuple: ((2, 5, 1),)\n",
    "print_args(*args) # Positional tuple: (2, 5, 1)  -> args 튜플을 풀어서 각각의 요소를 개별적인 인자로 전달\n",
    "\n",
    "## 키워드(이름=값) 인수 분해하기/모으기 : **\n",
    "# -> 키워드 인수를 딕셔너리로 묶음  / 함수 호출 또는 정의에서만 * 구문을 사용할 수 있음\n",
    "def print_kwargs(**kwargs):\n",
    "    print('Keyword arguments:',kwargs)\n",
    "\n",
    "print_kwargs(wine='merlot',entree='mutton',dessert='marcaronn') # Keyword arguments: {'wine': 'merlot', 'entree': 'mutton', 'dessert': 'marcaronn'}\n",
    "\n",
    "\n",
    "## 키워드(이름=값) 전용 인수\n",
    "def print_data(data,*,start=0,end=100): # * 이후에 정의된 start와 end는 키워드 전용 인자가 되어야함\n",
    "    for value in (data[start:end]):\n",
    "        print(value)\n",
    "        \n",
    "data = [1,2,3,4,5,6]\n",
    "\n",
    "print_data(data,start=2)\n",
    "print_data(data,end=2)\n",
    "\n",
    "\n",
    "## 독스트링 (docstring)\n",
    "# 함수 바디 시작 부분에 문자열을 포함시켜 함수 정의에 문서를 붙일 수 있는 것\n",
    "def echo(anything):\n",
    "    'echo returns its input argument'\n",
    "    return anything\n",
    "\n",
    "help(echo) \n",
    "# Help on function echo in module __main__:\n",
    "\n",
    "# echo(anything)\n",
    "# echo returns its input argument\n",
    "\n",
    "print(echo.__doc__) # echo returns its input argument\n",
    "\n",
    "\n"
   ],
   "metadata": {
    "collapsed": false,
    "ExecuteTime": {
     "end_time": "2024-07-18T12:18:00.557727300Z",
     "start_time": "2024-07-18T12:18:00.477010800Z"
    }
   },
   "id": "a2c081e219193b89"
  }
 ],
 "metadata": {
  "kernelspec": {
   "display_name": "Python 3",
   "language": "python",
   "name": "python3"
  },
  "language_info": {
   "codemirror_mode": {
    "name": "ipython",
    "version": 2
   },
   "file_extension": ".py",
   "mimetype": "text/x-python",
   "name": "python",
   "nbconvert_exporter": "python",
   "pygments_lexer": "ipython2",
   "version": "2.7.6"
  }
 },
 "nbformat": 4,
 "nbformat_minor": 5
}
