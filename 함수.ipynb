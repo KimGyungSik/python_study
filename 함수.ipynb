{
 "cells": [
  {
   "cell_type": "markdown",
   "source": [
    "## 프로그램 언어의 로직을 그룹핑 하는 방식\n",
    "\n",
    "- ### 절차형 방법에서는 코드의 묶음을 하나의  프로시저 또는 서브루틴\n",
    "- ### 함수형 방법에서는 코드의 묶음을 함수\n",
    "- ### 객체지향 방법에서는 코드의 묶음을 클래스(변수와 함수를 하나로 묶음)\n",
    "\n",
    "## 함수\n",
    "\n",
    "- ### 순수함수 : 외부에 영향 X\n",
    "- ### 비순수함수 : 외부에 영향 O\n",
    "- ### FP의 중요한 2가지 : 불변(thread-safe), 순수함수\n",
    "- ## 선언과 정의 \n",
    "   * ### 선언 : 몸통 X\n",
    "   * ### 정의 : 어떤 문장들을 묶는 것 / 명령문들을 그룹으로 묶는 것 -> Scope생김 -> Map이 있음 -> locals()로 접근 "
   ],
   "metadata": {
    "collapsed": false
   },
   "id": "b6a1fe1873a8925f"
  },
  {
   "cell_type": "code",
   "execution_count": 4,
   "id": "initial_id",
   "metadata": {
    "collapsed": true,
    "ExecuteTime": {
     "end_time": "2024-07-18T08:22:10.047395800Z",
     "start_time": "2024-07-18T08:22:10.039461500Z"
    }
   },
   "outputs": [
    {
     "name": "stdout",
     "output_type": "stream",
     "text": [
      "None\n"
     ]
    }
   ],
   "source": [
    "## 함수 호출하기 : ()\n",
    "\n",
    "def do_nothing():\n",
    "    pass # 아무것도 하지않는다는 것을 의미\n",
    "\n",
    "do_nothing()\n",
    "print(do_nothing())"
   ]
  },
  {
   "cell_type": "code",
   "execution_count": 3,
   "outputs": [
    {
     "data": {
      "text/plain": "'run run'"
     },
     "execution_count": 3,
     "metadata": {},
     "output_type": "execute_result"
    }
   ],
   "source": [
    "## 인수와 매개변수\n",
    "\n",
    "def echo(anything):\n",
    "    return anything + ' ' + anything\n",
    "\n",
    "echo('run')"
   ],
   "metadata": {
    "collapsed": false,
    "ExecuteTime": {
     "end_time": "2024-07-18T08:20:33.296708500Z",
     "start_time": "2024-07-18T08:20:33.279314600Z"
    }
   },
   "id": "74109b0084b6608e"
  },
  {
   "cell_type": "code",
   "execution_count": 19,
   "outputs": [
    {
     "name": "stdout",
     "output_type": "stream",
     "text": [
      "['a']\n",
      "['a', 'b']\n",
      "['a']\n",
      "['b']\n",
      "Positional tuple: ()\n",
      "Positional tuple: (3, 2, 1, 'wait!', '2')\n",
      "Positional tuple: ((2, 5, 1),)\n",
      "Positional tuple: (2, 5, 1)\n",
      "Keyword arguments: {'wine': 'merlot', 'entree': 'mutton', 'dessert': 'marcaronn'}\n",
      "3\n",
      "4\n",
      "5\n",
      "6\n",
      "1\n",
      "2\n",
      "Help on function echo in module __main__:\n",
      "\n",
      "echo(anything)\n",
      "    echo returns its input argument\n",
      "\n",
      "echo returns its input argument\n"
     ]
    }
   ],
   "source": [
    "## 유용한 None\n",
    "# None 은 아무것도 없다는 것\n",
    "# None과 False는 다르다 \n",
    "\n",
    "## 위치 인수 \n",
    "# 위치 인수의 단점 : 인수의 각 위치에 대한 의미를 알아야 한다는 것\n",
    "\n",
    "## 키워드 인수 (이름=값)\n",
    "# 매개변수에 상응하는 이름을 인수에 지정하는 것 \n",
    "\n",
    "## 기본 매개변수 값 지정하기\n",
    "def menu(wine,entree,dessert='pudding'): # dessert 인수를 제공하지 않으면 기본인수 대입\n",
    "    return {'wine':wine,'entree':entree, 'dessert':dessert}\n",
    "\n",
    "# 기본값이 가변 객체인 경우, 해당 객체는 모든 함수 호출 간에 공유\n",
    "def buggy(arg,result=[]):\n",
    "    result.append(arg)\n",
    "    print(result)\n",
    "    \n",
    "buggy('a') # ['a']\n",
    "buggy('b') # ['a', 'b']\n",
    "\n",
    "# 해결방법\n",
    "def buggy(arg, result=None):\n",
    "    if result is None:\n",
    "        result = []\n",
    "    result.append(arg)\n",
    "    print(result)\n",
    "\n",
    "# 함수 호출\n",
    "buggy('a')  # 출력: ['a']\n",
    "buggy('b')  # 출력: ['b']\n",
    "\n",
    "## 위치 인수 분해하기/모으기:  * \n",
    "#  -> 매개변수에서 위치 인수 변수를 튜플로 묶음 (가변인수) / 함수 호출 또는 정의에서만 * 구문을 사용할 수 있음\n",
    "def print_args(*args):\n",
    "    print('Positional tuple:',args)\n",
    "    \n",
    "print_args()\n",
    "print_args(3,2,1,'wait!','2') # Positional tuple: (3, 2, 1, 'wait!', '2')\n",
    "args = (2,5,1)\n",
    "print_args(args) # Positional tuple: ((2, 5, 1),)\n",
    "print_args(*args) # Positional tuple: (2, 5, 1)  -> args 튜플을 풀어서 각각의 요소를 개별적인 인자로 전달\n",
    "\n",
    "## 키워드(이름=값) 인수 분해하기/모으기 : **\n",
    "# -> 키워드 인수를 딕셔너리로 묶음  / 함수 호출 또는 정의에서만 * 구문을 사용할 수 있음\n",
    "def print_kwargs(**kwargs):\n",
    "    print('Keyword arguments:',kwargs)\n",
    "\n",
    "print_kwargs(wine='merlot',entree='mutton',dessert='marcaronn') # Keyword arguments: {'wine': 'merlot', 'entree': 'mutton', 'dessert': 'marcaronn'}\n",
    "\n",
    "\n",
    "## 키워드(이름=값) 전용 인수\n",
    "def print_data(data,*,start=0,end=100): # * 이후에 정의된 start와 end는 키워드 전용 인자가 되어야함\n",
    "    for value in (data[start:end]):\n",
    "        print(value)\n",
    "        \n",
    "data = [1,2,3,4,5,6]\n",
    "\n",
    "print_data(data,start=2)\n",
    "print_data(data,end=2)\n",
    "\n",
    "\n",
    "## 독스트링 (docstring)\n",
    "# 함수 바디 시작 부분에 문자열을 포함시켜 함수 정의에 문서를 붙일 수 있는 것\n",
    "def echo(anything):\n",
    "    'echo returns its input argument'\n",
    "    return anything\n",
    "\n",
    "help(echo) \n",
    "# Help on function echo in module __main__:\n",
    "\n",
    "# echo(anything)\n",
    "# echo returns its input argument\n",
    "\n",
    "print(echo.__doc__) # echo returns its input argument\n",
    "\n",
    "\n"
   ],
   "metadata": {
    "collapsed": false,
    "ExecuteTime": {
     "end_time": "2024-07-18T12:18:00.557727300Z",
     "start_time": "2024-07-18T12:18:00.477010800Z"
    }
   },
   "id": "a2c081e219193b89"
  },
  {
   "cell_type": "code",
   "execution_count": 10,
   "outputs": [
    {
     "name": "stdout",
     "output_type": "stream",
     "text": [
      "<Order total: 42.00 due: 42.000000> <Order total: 42.00 due: 39.900000>\n"
     ]
    }
   ],
   "source": [
    "from abc import ABC, abstractmethod\n",
    "from collections import namedtuple\n",
    "\n",
    "Customer = namedtuple('Customer','name fidelity')\n",
    "\n",
    "class LineItem:\n",
    "    def __init__(self,product,quantity,price):\n",
    "        self.product = product\n",
    "        self.quantity = quantity\n",
    "        self.price = price\n",
    "\n",
    "    def total(self):\n",
    "        return self.price * self.quantity\n",
    "\n",
    "class Order:\n",
    "    def __init__(self,customer,cart,promotion=None):\n",
    "        self.customer = customer\n",
    "        self.cart = cart\n",
    "        self.promotion = promotion\n",
    "\n",
    "    def total(self):\n",
    "        if not hasattr(self,'_total'):\n",
    "            self.__total = sum(item.total() for item in self.cart)\n",
    "        return self.__total\n",
    "\n",
    "    def due(self):\n",
    "        if self.promotion is None:\n",
    "            discount = 0\n",
    "        else:\n",
    "            discount = self.promotion.discount(self)\n",
    "        return self.total() - discount\n",
    "    def __repr__(self):\n",
    "        fmt = '<Order total: {:.2f} due:{: 2f}>'\n",
    "        return fmt.format(self.total(),self.due())\n",
    "\n",
    "class Promotion(ABC): # 전략:추상 베이스 클래스\n",
    "    @abstractmethod\n",
    "    def discount(self,order):\n",
    "        \"\"\"할인액을 구체적인 숫자로 반환한다\"\"\"\n",
    "\n",
    "class FidelityPromo(Promotion):\n",
    "    \"\"\"충성도 포인트가 1000점 이상인 고객에게 전체 5% 할인 적용\"\"\"\n",
    "\n",
    "    def discount(self,order):\n",
    "        return order.total() * .05 if order.customer.fidelity >= 1000 else 0\n",
    "\n",
    "class BulkItemPromo(Promotion):\n",
    "    \"\"\"20개 이상의 동일 상품을 구입하면 10% 할인 적용\"\"\"\n",
    "\n",
    "    def discount(self,order):\n",
    "        discount = 0\n",
    "        for item in order.cart:\n",
    "            if item.quantity >= 20:\n",
    "                discount += item.total() * .1\n",
    "        return discount\n",
    "\n",
    "class LargeOrderPromo(Promotion):\n",
    "    \"\"\"10종류 이상의 상품을 구입하면 10% 할인 적용\"\"\"\n",
    "\n",
    "    def discount(self,order):\n",
    "        distinct_items = {item.product for item in order.cart}\n",
    "        if len(distinct_items) >= 10:\n",
    "            return order.total()* .07\n",
    "        return 0\n",
    "\n",
    "joe = Customer('John Doe',0)\n",
    "ann = Customer('Ann Smith', 1100)\n",
    "cart = [LineItem('banana', 4, .5),\n",
    "        LineItem('apple',10, 1.5),\n",
    "        LineItem('watermellon',5,5.0)]\n",
    "o1 = Order(joe,cart,FidelityPromo())\n",
    "o2 = Order(ann,cart,FidelityPromo())\n",
    "print(o1,o2)\n"
   ],
   "metadata": {
    "collapsed": false,
    "ExecuteTime": {
     "end_time": "2024-07-19T07:15:30.727115Z",
     "start_time": "2024-07-19T07:15:30.682464600Z"
    }
   },
   "id": "a72727ce5e84c4db"
  },
  {
   "cell_type": "markdown",
   "source": [
    "## 일등 함수 \n",
    "\n",
    "### 함수도 1급 객체\n",
    "### 함수도 다른 객체처럼 클래스를 가지고 있다.\n",
    "### 함수도 다른 객체처럼 변수에 할당도 가능하다. 즉 매개변수로 전달이 가능하다.\n"
   ],
   "metadata": {
    "collapsed": false
   },
   "id": "d543d121bac4a26a"
  },
  {
   "cell_type": "code",
   "execution_count": 12,
   "outputs": [
    {
     "name": "stdout",
     "output_type": "stream",
     "text": [
      "42\n",
      "42\n"
     ]
    },
    {
     "ename": "TypeError",
     "evalue": "'NoneType' object is not callable",
     "output_type": "error",
     "traceback": [
      "\u001B[1;31m---------------------------------------------------------------------------\u001B[0m",
      "\u001B[1;31mTypeError\u001B[0m                                 Traceback (most recent call last)",
      "Cell \u001B[1;32mIn[12], line 9\u001B[0m\n\u001B[0;32m      6\u001B[0m \u001B[38;5;28;01mdef\u001B[39;00m \u001B[38;5;21mrun_something\u001B[39m(func):\n\u001B[0;32m      7\u001B[0m     func()\n\u001B[1;32m----> 9\u001B[0m run_something(answer())\n",
      "Cell \u001B[1;32mIn[12], line 7\u001B[0m, in \u001B[0;36mrun_something\u001B[1;34m(func)\u001B[0m\n\u001B[0;32m      6\u001B[0m \u001B[38;5;28;01mdef\u001B[39;00m \u001B[38;5;21mrun_something\u001B[39m(func):\n\u001B[1;32m----> 7\u001B[0m     func()\n",
      "\u001B[1;31mTypeError\u001B[0m: 'NoneType' object is not callable"
     ]
    }
   ],
   "source": [
    "def answer():\n",
    "    print(42)\n",
    "    \n",
    "answer() # 42\n",
    "\n",
    "def run_something(func):\n",
    "    func()\n",
    "    \n",
    "run_something(answer()) # 42"
   ],
   "metadata": {
    "collapsed": false,
    "ExecuteTime": {
     "end_time": "2024-07-19T08:29:01.824252900Z",
     "start_time": "2024-07-19T08:29:01.767844900Z"
    }
   },
   "id": "47df11130717ad58"
  },
  {
   "cell_type": "markdown",
   "source": [
    "### 파이썬에서 괄호 ()는 함수를 호출한다는 의믜\n",
    "   * ### 괄호가 없으면 함수를 다른 모든 객체와 마찬가지로 간주 why? 파이썬에서 모든 것은 객체이기 때문\n",
    "\n"
   ],
   "metadata": {
    "collapsed": false
   },
   "id": "7c3840ab812fd9d4"
  },
  {
   "cell_type": "code",
   "execution_count": 20,
   "outputs": [
    {
     "data": {
      "text/plain": "6"
     },
     "execution_count": 20,
     "metadata": {},
     "output_type": "execute_result"
    }
   ],
   "source": [
    "type(run_something)\n",
    "\n",
    "def sum_args(*args):\n",
    "    return sum(args)\n",
    "\n",
    "sum_args(1,2,3)\n",
    "\n",
    "def rum_with_positional_args(func,*args):\n",
    "    return func(*args)\n",
    "\n",
    "rum_with_positional_args(sum_args,1,2,3)"
   ],
   "metadata": {
    "collapsed": false,
    "ExecuteTime": {
     "end_time": "2024-07-19T08:35:35.989830400Z",
     "start_time": "2024-07-19T08:35:35.977955300Z"
    }
   },
   "id": "d07533a7c854417a"
  },
  {
   "cell_type": "markdown",
   "source": [
    "## 내부 함수\n",
    "### 내부함수는 반복문이나 코드 중복을 피하고자 또 다른 함수 내에 어떤 복잡한 작업을 한번 이상 수행할때 유용\n",
    "\n",
    "## 클로저 -> Scope를 묶은 것 (Python에는 접근제어자가 없어서 캡슐화가 안되는데 클로저가 해결)\n",
    "### 다른 함수에 의해 동적으로 생성됨\n",
    "### 외부 함수로부터 생성된 변수값을 변경하고, 저장할 수 있는 함수 "
   ],
   "metadata": {
    "collapsed": false
   },
   "id": "43411b9968719c68"
  },
  {
   "cell_type": "code",
   "execution_count": 31,
   "outputs": [
    {
     "name": "stdout",
     "output_type": "stream",
     "text": [
      "1\n",
      "2\n",
      "<class 'function'>, <class 'function'>\n",
      "<function knights2.<locals>.inner2 at 0x000001755C00B6A0> <function knights2.<locals>.inner2 at 0x000001755C00A160>\n",
      "1\n",
      "2\n",
      "3\n",
      "4\n",
      "5\n",
      "6\n"
     ]
    }
   ],
   "source": [
    "def make_counter():\n",
    "    count = 0 # cv\n",
    "\n",
    "    def counter():\n",
    "        nonlocal count\n",
    "        count += 1\n",
    "        return count\n",
    "\n",
    "    return counter\n",
    "\n",
    "counter = make_counter()\n",
    "print(counter())  # 출력: 1\n",
    "print(counter())  # 출력: 2\n",
    "\n",
    "def knights2(saying):\n",
    "    def inner2():\n",
    "        return \"We are the knights who say: '%s'\"%saying\n",
    "    return inner2 # inner2함수를 동적으로 생성\n",
    "\n",
    "a = knights2('Duck')\n",
    "b = knights2('Hasenpfeffer')\n",
    "\n",
    "print(type(a),end=\", \")\n",
    "print(type(b)) # <class 'function'>, <class 'function'>\n",
    "\n",
    "print(a,b) \n",
    "# <function knights2.<locals>.inner2 at 0x000001755B339B20> <function knights2.<locals>.inner2 at 0x000001755B33A520>\n",
    "\n",
    "# chatGPT에게 질문 : 실행중에도 inner2 함수의 네임스페이스에는 saying이 존재하는게 아니라 접근하는거지?\n",
    "#실행 중에도 inner2 함수의 네임스페이스에는 saying이 직접적으로 존재하지 않지만, 클로저를 통해 saying 변수에 접근할 수 있습니다. 이는 클로저의 중요한 특징으로, 내부 함수가 외부 함수의 변수에 접근할 수 있게 해줍니다.\n",
    "\n",
    "# 일반적으로 함수 내에서 선언된 변수는 함수가 실행되는 동안에만 존재하고, 함수 실행이 끝나면 사라집니다. 그러나 클로저를 사용하면 함수가 종료된 후에도 그 변수의 값을 유지하면서 접근할 수 있습니다.\n",
    "\n",
    "def make_counter():\n",
    "    count = 0\n",
    "\n",
    "    def increment():\n",
    "        nonlocal count\n",
    "        count += 1\n",
    "        return count\n",
    "\n",
    "    return increment\n",
    "\n",
    "counter = make_counter()\n",
    "print(counter())  # 출력: 1\n",
    "print(counter())  # 출력: 2\n",
    "print(counter())  # 출력: 3\n"
   ],
   "metadata": {
    "collapsed": false,
    "ExecuteTime": {
     "end_time": "2024-07-19T10:02:41.654876400Z",
     "start_time": "2024-07-19T10:02:41.634782800Z"
    }
   },
   "id": "26f469c2f94d7ffa"
  },
  {
   "cell_type": "markdown",
   "source": [
    "## 익명 함수 : lamda\n",
    "### 단일 문장으로 표현되는 익명 함수\n",
    "### lambda 키워도 지정\n",
    "### 콜론 좌측은 매개변수 우측은 표현식 지정\n",
    "### 문장을 표현식에 작성하면 예외를 발생시킴\n",
    "\n",
    "## 제너레이터\n",
    "### 시퀀스를 생성하는 객체 ex) range() 함수\n",
    "\n",
    "## 제너레이터 함수\n",
    "###  yield 문을 사용하면 함수의 실행 상태를 기억하고, 다음 호출 시 저장된 상태에서 다시 실행을 시작할 수 있습니다.\n"
   ],
   "metadata": {
    "collapsed": false
   },
   "id": "d78b5d6f7cbaec81"
  },
  {
   "cell_type": "code",
   "execution_count": 45,
   "outputs": [
    {
     "name": "stdout",
     "output_type": "stream",
     "text": [
      "1\n",
      "2\n",
      "3\n",
      "4\n",
      "1\n",
      "2\n",
      "3\n",
      "4\n",
      "5\n"
     ]
    }
   ],
   "source": [
    "def my_range(first=0,last=10,step=1):\n",
    "    number = first\n",
    "    while number < last:\n",
    "        yield number\n",
    "        number += step\n",
    "\n",
    "a = my_range(1,5)\n",
    "b = my_range(1,6)\n",
    "for x in a:\n",
    "    print(x)\n",
    "\n",
    "for i in b:\n",
    "    print(i)\n",
    "\n",
    "for x1 in a:\n",
    "    print(x1) # 순회를 마친 제너레이터를 다시 순회하면 아무것도 반환하지 않음 -> java의 iterator와 유사\n"
   ],
   "metadata": {
    "collapsed": false,
    "ExecuteTime": {
     "end_time": "2024-07-19T10:34:15.537369200Z",
     "start_time": "2024-07-19T10:34:15.518393900Z"
    }
   },
   "id": "28cbed6a3eb06b02"
  },
  {
   "cell_type": "markdown",
   "source": [
    "## 데커레이터\n",
    "\n",
    "### 특정 함수나 클래스로 기존 함수나 클래스의 기능을 추가하는 경우 사용\n",
    "### 보통 함수에 함수를 전달해서 새로운 기능을 처리 : 합성함수 처리\n",
    "\n",
    "### 데코레이터 함수 내에 내부 함수를 정의해서 새로운 기능 추가\n",
    "   * 함수를 전달 받아 지역변수로 처리\n",
    "  * 내부 함수를 반환한다\n",
    "    * 내부 함수 내에서 저장된 함수를 실행한다   \n",
    "      \n",
    "### 데코레이터 단순 표기법\n",
    "   * 기존 함수에 @ 기호와 데코레이터 함수를 지정한다\n",
    "  * 함수를 실행할 때는 실행함수 이름으로 실행\n",
    "    * 내부 함수가 실행함수 이름으로 반환되어 처리"
   ],
   "metadata": {
    "collapsed": false
   },
   "id": "f64395e5a1d74636"
  },
  {
   "cell_type": "code",
   "execution_count": 92,
   "outputs": [
    {
     "name": "stdout",
     "output_type": "stream",
     "text": [
      "a\n",
      "A\n"
     ]
    },
    {
     "data": {
      "text/plain": "10"
     },
     "execution_count": 92,
     "metadata": {},
     "output_type": "execute_result"
    }
   ],
   "source": [
    "def dec(func):\n",
    "    print('a')\n",
    "    def new_func():\n",
    "        print('A')\n",
    "        return func()\n",
    "    return new_func\n",
    "\n",
    "def add():\n",
    "    return 10\n",
    "\n",
    "@dec\n",
    "def _add():\n",
    "    return 10\n",
    "# add = dec(add)\n",
    "# add()\n",
    "_add()"
   ],
   "metadata": {
    "collapsed": false,
    "ExecuteTime": {
     "end_time": "2024-07-19T12:49:57.805521500Z",
     "start_time": "2024-07-19T12:49:57.720387200Z"
    }
   },
   "id": "20b61952fbe786dd"
  },
  {
   "cell_type": "markdown",
   "source": [
    "### 데코레이터 실행함수 인자 전달 하기\n",
    "  * 실행함수 저장과 실행함수의 인자를 분리\n",
    "  * 내부 함수는 실행함수의 인자를 받아서 저장된 실행함수를 실행\n",
    " "
   ],
   "metadata": {
    "collapsed": false
   },
   "id": "e8effa4218ef3db9"
  },
  {
   "cell_type": "code",
   "execution_count": 78,
   "outputs": [
    {
     "name": "stdout",
     "output_type": "stream",
     "text": [
      "a\n"
     ]
    }
   ],
   "source": [
    "def dec_1(func):\n",
    "    print('a')\n",
    "    def new_func(*args,**kwargs):\n",
    "        print('A')\n",
    "        return func(*args,**kwargs)\n",
    "    return new_func\n",
    "\n",
    "@dec_1\n",
    "def add_1(x,y):\n",
    "    return x+y\n",
    "\n"
   ],
   "metadata": {
    "collapsed": false,
    "ExecuteTime": {
     "end_time": "2024-07-19T12:34:17.519574400Z",
     "start_time": "2024-07-19T12:34:17.467829200Z"
    }
   },
   "id": "3054ccf77689bd1f"
  },
  {
   "cell_type": "code",
   "execution_count": 79,
   "outputs": [
    {
     "name": "stdout",
     "output_type": "stream",
     "text": [
      "A\n"
     ]
    },
    {
     "data": {
      "text/plain": "300"
     },
     "execution_count": 79,
     "metadata": {},
     "output_type": "execute_result"
    }
   ],
   "source": [
    "add_1(100,200)"
   ],
   "metadata": {
    "collapsed": false,
    "ExecuteTime": {
     "end_time": "2024-07-19T12:34:20.395508600Z",
     "start_time": "2024-07-19T12:34:20.358575600Z"
    }
   },
   "id": "674cd585db95ef46"
  },
  {
   "cell_type": "code",
   "execution_count": 83,
   "outputs": [
    {
     "name": "stdout",
     "output_type": "stream",
     "text": [
      "<function add at 0x000001755C1A2200>\n"
     ]
    }
   ],
   "source": [
    "def add(x,y):\n",
    "    result = add(2,5)\n",
    "    return result\n",
    "\n",
    "print(add)"
   ],
   "metadata": {
    "collapsed": false,
    "ExecuteTime": {
     "end_time": "2024-07-19T12:37:05.039372100Z",
     "start_time": "2024-07-19T12:37:05.003596400Z"
    }
   },
   "id": "6955009d9943b3b5"
  },
  {
   "cell_type": "markdown",
   "source": [
    "## 데코레이터 실행순서\n",
    " * 데코레이터는 여러 개를 실행함수에 연결할 수 있다.\n",
    " * 데코레이터 순서는 밑에 정의한 것부터 차례대로 구성된다."
   ],
   "metadata": {
    "collapsed": false
   },
   "id": "53b35448d9afa0a1"
  },
  {
   "cell_type": "code",
   "execution_count": 87,
   "outputs": [
    {
     "name": "stdout",
     "output_type": "stream",
     "text": [
      "c\n",
      "b\n",
      "a\n",
      "A\n",
      "B\n",
      "C\n"
     ]
    }
   ],
   "source": [
    "def a(func):\n",
    "    print(\"a\")\n",
    "    def new_func():\n",
    "        print('A')\n",
    "        func()\n",
    "    return new_func\n",
    "\n",
    "\n",
    "def b(func):\n",
    "    print(\"b\")\n",
    "    def new_func():\n",
    "        print('B')\n",
    "        func()\n",
    "    return new_func\n",
    "\n",
    "\n",
    "def c(func):\n",
    "    print(\"c\")\n",
    "    def new_func():\n",
    "        print('C')\n",
    "        func()\n",
    "    return new_func\n",
    "\n",
    "\n",
    "@a\n",
    "@b\n",
    "@c # <- 우선 적용\n",
    "def func():\n",
    "    pass\n",
    "func()"
   ],
   "metadata": {
    "collapsed": false,
    "ExecuteTime": {
     "end_time": "2024-07-19T12:46:00.079100900Z",
     "start_time": "2024-07-19T12:46:00.070456900Z"
    }
   },
   "id": "b1f24955a69056de"
  },
  {
   "cell_type": "markdown",
   "source": [
    "### 데코레이터 적용 순서\n",
    " * 로딩시 자동으로 데코레이터가 구성된다\n",
    "### 실행순서\n",
    " * 실행순서는 제일 위에 정의한 데코레이터부터 순차적으로 실행된다"
   ],
   "metadata": {
    "collapsed": false
   },
   "id": "bbf9687aa07f021"
  },
  {
   "cell_type": "code",
   "execution_count": 104,
   "outputs": [
    {
     "name": "stdout",
     "output_type": "stream",
     "text": [
      "c\n",
      "b\n",
      "a\n",
      "A\n",
      "B\n",
      "C\n"
     ]
    }
   ],
   "source": [
    "def func_1():\n",
    "    pass\n",
    "\n",
    "func_2 = a(b(c(func_1))) # 데코레이터 문법 적용시키지 않고 동일한 함수를 생성\n",
    "func_2()"
   ],
   "metadata": {
    "collapsed": false,
    "ExecuteTime": {
     "end_time": "2024-07-19T13:10:29.878041500Z",
     "start_time": "2024-07-19T13:10:29.861931800Z"
    }
   },
   "id": "594d378fcfa863d5"
  },
  {
   "cell_type": "code",
   "execution_count": 102,
   "outputs": [
    {
     "name": "stdout",
     "output_type": "stream",
     "text": [
      "Running function: new_function\n"
     ]
    },
    {
     "data": {
      "text/plain": "64"
     },
     "execution_count": 102,
     "metadata": {},
     "output_type": "execute_result"
    }
   ],
   "source": [
    "def document_it(func):\n",
    "    def new_function(*args,**kwargs):\n",
    "        print('Running function:',func.__name__)\n",
    "        return func(*args,**kwargs)\n",
    "    return new_function\n",
    "\n",
    "def square_it(func):\n",
    "    def new_function(*args,**kwargs):\n",
    "        result = func(*args,**kwargs)\n",
    "        return result*result\n",
    "    return new_function\n",
    "\n",
    "@document_it\n",
    "@square_it\n",
    "def add_ints(a,b):\n",
    "    return a+b\n",
    "\n",
    "add_ints(3,5)"
   ],
   "metadata": {
    "collapsed": false,
    "ExecuteTime": {
     "end_time": "2024-07-19T13:06:48.154223300Z",
     "start_time": "2024-07-19T13:06:48.115391600Z"
    }
   },
   "id": "86ad626d29c81fdc"
  }
 ],
 "metadata": {
  "kernelspec": {
   "display_name": "Python 3",
   "language": "python",
   "name": "python3"
  },
  "language_info": {
   "codemirror_mode": {
    "name": "ipython",
    "version": 2
   },
   "file_extension": ".py",
   "mimetype": "text/x-python",
   "name": "python",
   "nbconvert_exporter": "python",
   "pygments_lexer": "ipython2",
   "version": "2.7.6"
  }
 },
 "nbformat": 4,
 "nbformat_minor": 5
}
