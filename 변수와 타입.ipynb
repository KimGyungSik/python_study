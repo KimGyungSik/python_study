{
 "cells": [
  {
   "cell_type": "code",
   "execution_count": null,
   "id": "initial_id",
   "metadata": {
    "collapsed": true
   },
   "outputs": [],
   "source": [
    "x= 10\n",
    "x = \"hello\""
   ]
  },
  {
   "cell_type": "markdown",
   "source": [
    "## 변수 선언방법\n",
    "  * ### Python의 변수는 값을 저장하고 참조하는 데 사용되는 이름\n",
    "  * ### 변수는 특정 데이터 타입의 값을 저장하며, Python에서는 변수의 데이터 타입을 명시적으로 선언하지 않아도 됨\n",
    "  * ###   "
   ],
   "metadata": {
    "collapsed": false
   },
   "id": "61b7b65ad46b8b59"
  }
 ],
 "metadata": {
  "kernelspec": {
   "display_name": "Python 3",
   "language": "python",
   "name": "python3"
  },
  "language_info": {
   "codemirror_mode": {
    "name": "ipython",
    "version": 2
   },
   "file_extension": ".py",
   "mimetype": "text/x-python",
   "name": "python",
   "nbconvert_exporter": "python",
   "pygments_lexer": "ipython2",
   "version": "2.7.6"
  }
 },
 "nbformat": 4,
 "nbformat_minor": 5
}
