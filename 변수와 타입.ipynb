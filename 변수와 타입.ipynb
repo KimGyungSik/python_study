{
 "cells": [
  {
   "cell_type": "code",
   "execution_count": null,
   "id": "initial_id",
   "metadata": {
    "collapsed": true
   },
   "outputs": [],
   "source": [
    "x= 10  # x는 정수형 변수\n",
    "x = \"hello\" # 이제 x는 문자열 변수"
   ]
  },
  {
   "cell_type": "markdown",
   "source": [
    "## 변수 선언방법\n",
    "  * ### Python의 변수는 값을 저장하고 참조하는 데 사용되는 이름\n",
    "  * ### 변수는 특정 데이터 타입의 값을 저장하며, Python에서는 변수의 데이터 타입을 명시적으로 선언하지 않아도 됨\n",
    "  * ### 변수는 첫 번째 할당 시점에 자동으로 생성되며, 다른 값으로 재할당 가능\n",
    "### 변수의 특징 \n",
    "  * ### 동적 타이핑 : 파이썬에서 값은 타입이 있지만 변수는 타입이 없다\n",
    "  * ### Python은 동적 타입 언어로, 변수의 타입을 명시적 선언 X, 변수는 값이 할당될 떄 자동으로 타입을 갖게됨"
   ],
   "metadata": {
    "collapsed": false
   },
   "id": "61b7b65ad46b8b59"
  },
  {
   "cell_type": "code",
   "execution_count": 2,
   "outputs": [
    {
     "name": "stdout",
     "output_type": "stream",
     "text": [
      "Alice\n"
     ]
    }
   ],
   "source": [
    "x = 10 # 정수형\n",
    "y = 3.14 # 부동 소수점\n",
    "z = 1 + 2j # 복소수\n",
    "s = \"hello\" #문자열\n",
    "flag = True # 불리언\n",
    "my_list = [1,2,3,4,5] #리스트\n",
    "my_tuple = (1,2,3) #튜플\n",
    "my_set = {1,2,3} #세트\n",
    "my_dict = {\"name\":\"Alice\",\"age\":25} #딕셔너리\n",
    "\n",
    "print(my_dict.get(\"name\"))"
   ],
   "metadata": {
    "collapsed": false,
    "ExecuteTime": {
     "end_time": "2024-07-16T07:17:20.628228400Z",
     "start_time": "2024-07-16T07:17:20.597529200Z"
    }
   },
   "id": "3eb5ae30a71505cb"
  },
  {
   "cell_type": "markdown",
   "source": [
    "## 변수 타입\n",
    "  * ### 숫자형 : 정수(int), 부동 소수점(float), 복소수(complex) "
   ],
   "metadata": {
    "collapsed": false
   },
   "id": "e3979fd4c9d754e1"
  },
  {
   "cell_type": "markdown",
   "source": [],
   "metadata": {
    "collapsed": false
   },
   "id": "e027ed6e254ee3fe"
  },
  {
   "cell_type": "code",
   "execution_count": 6,
   "outputs": [
    {
     "name": "stdout",
     "output_type": "stream",
     "text": [
      "<class 'str'>\n",
      "<class 'float'>\n",
      "<class 'int'>\n"
     ]
    }
   ],
   "source": [
    "x= 10 # 정수형\n",
    "y = str(x) # 문자열형으로 변환\n",
    "print(type(y)) \n",
    "\n",
    "a = \"3.14\"\n",
    "b = float(a)\n",
    "print(type(b))\n",
    "\n",
    "c = \"11111\"\n",
    "d = int(c)\n",
    "print(type(d))"
   ],
   "metadata": {
    "collapsed": false,
    "ExecuteTime": {
     "end_time": "2024-07-16T07:21:49.524784900Z",
     "start_time": "2024-07-16T07:21:49.466932700Z"
    }
   },
   "id": "cb1882c481edc8cf"
  },
  {
   "cell_type": "markdown",
   "source": [
    "## 변수의 타입 변환"
   ],
   "metadata": {
    "collapsed": false
   },
   "id": "4a379b9efc832a3"
  },
  {
   "cell_type": "code",
   "execution_count": 7,
   "outputs": [
    {
     "name": "stdout",
     "output_type": "stream",
     "text": [
      "10\n"
     ]
    }
   ],
   "source": [
    "def my_function():\n",
    "    local_var = 10\n",
    "    print(local_var)\n",
    "    \n",
    "my_function() # 출력:10\n",
    "#print(local_val) 에러, local_var는 함수 외부에서 접근 불가"
   ],
   "metadata": {
    "collapsed": false,
    "ExecuteTime": {
     "end_time": "2024-07-16T07:29:23.758597700Z",
     "start_time": "2024-07-16T07:29:23.731630900Z"
    }
   },
   "id": "8ee7f6a61cde6ae2"
  },
  {
   "cell_type": "markdown",
   "source": [
    "## 변수의 스코프 : 변수는 정의된 스코프(범위) 내에서만 접근 가능, 함수 내에서 정의된 변수는 그 함수 내에서만 유효하다는 것을 의미함"
   ],
   "metadata": {
    "collapsed": false
   },
   "id": "28fe743bd9a75fbc"
  },
  {
   "cell_type": "code",
   "execution_count": 8,
   "outputs": [
    {
     "name": "stdout",
     "output_type": "stream",
     "text": [
      "I am global\n",
      "I am local\n",
      "I am global\n"
     ]
    }
   ],
   "source": [
    "global_var = \"I am global\"\n",
    "\n",
    "def my_function():\n",
    "    local_val = \"I am local\"\n",
    "    print(global_var) # 글로벌 변수 접근가능\n",
    "    print(local_val) # 로컬 변수 접근 가능\n",
    "    \n",
    "my_function()\n",
    "\n",
    "print(global_var)\n",
    "# print(local_var) 접근 불가"
   ],
   "metadata": {
    "collapsed": false,
    "ExecuteTime": {
     "end_time": "2024-07-16T07:50:04.110060500Z",
     "start_time": "2024-07-16T07:50:04.096529900Z"
    }
   },
   "id": "c5bb95277ab4e43f"
  },
  {
   "cell_type": "markdown",
   "source": [],
   "metadata": {
    "collapsed": false
   },
   "id": "a72c4c8b793c2359"
  },
  {
   "cell_type": "markdown",
   "source": [
    "## 글로벌 변수와 로컬 변수\n",
    "  * ### 글로벌 변수 : 함수 외부에서 선언된 변수로, 모든 함수 내에서 접근 가능\n",
    "  * ### 로컬 변수 : 함수 내부에서 선언된 변수로, 그 함수 내에서만 유효"
   ],
   "metadata": {
    "collapsed": false
   },
   "id": "5ea6f846872f9d36"
  },
  {
   "cell_type": "code",
   "execution_count": 12,
   "outputs": [
    {
     "name": "stdout",
     "output_type": "stream",
     "text": [
      "inner: world\n",
      "outer: hello\n",
      "inner: world\n",
      "outer: world\n",
      "inner_function: inner\n",
      "outer_function: inner\n",
      "outer_function: outer\n",
      "global x: outer\n"
     ]
    }
   ],
   "source": [
    "# nonlocal 키워드를 사용하지 않은 경우\n",
    "def outer():\n",
    "    x = \"hello\"\n",
    "    \n",
    "    def inner():\n",
    "        x = \"world\" # 새로운 지역 변수 x를 생성\n",
    "        print(\"inner:\",x)\n",
    "        \n",
    "    inner()\n",
    "    print(\"outer:\",x)\n",
    "    \n",
    "outer()\n",
    "\n",
    "# nonlocal 키워드를 사용한 경우\n",
    "def outer():\n",
    "    x = \"hello\"\n",
    "\n",
    "    def inner():\n",
    "        nonlocal x\n",
    "        x = \"world\" # 바깥 함수의 x 변수를 수정\n",
    "        print(\"inner:\",x)\n",
    "\n",
    "    inner()\n",
    "    print(\"outer:\",x)\n",
    "\n",
    "outer()\n",
    "\n",
    "# 중첩 함수와 nonlocal\n",
    "def outer_function():\n",
    "    outer_var = \"outer\"\n",
    "\n",
    "    def inner_function():\n",
    "        nonlocal outer_var  # outer_function의 outer_var를 참조\n",
    "        outer_var = \"inner\"\n",
    "        print(\"inner_function:\", outer_var)  # 출력: inner_function: inner\n",
    "\n",
    "    inner_function()\n",
    "    print(\"outer_function:\", outer_var)  # 출력: outer_function: inner\n",
    "\n",
    "outer_function()\n",
    "\n",
    "# global 키워드 예제\n",
    "x = \"global\"\n",
    "\n",
    "def outer_function():\n",
    "    global x  # 전역 변수 x를 참조\n",
    "    x = \"outer\"\n",
    "    print(\"outer_function:\", x)  # 출력: outer_function: outer\n",
    "\n",
    "outer_function()\n",
    "print(\"global x:\", x)  # 출력: global x: outer\n"
   ],
   "metadata": {
    "collapsed": false,
    "ExecuteTime": {
     "end_time": "2024-07-16T08:00:48.465365700Z",
     "start_time": "2024-07-16T08:00:48.447277Z"
    }
   },
   "id": "781c2bf189757ff2"
  },
  {
   "cell_type": "markdown",
   "source": [
    "## global과 nonlocal\n",
    "  * ### nonlocal 키워드 : 중첩 함수 내에서 바깥쪽 함수의 변수에 접근하고 수정하기 위해 사용\n",
    "  * ### nonlocal 키워드는 현재 함수의 가장 가까운 바깥 함수의 변수를 참조함\n",
    "## nonlocal과 global의 차이\n",
    "  * ### nonlocal : 중첩 함수에서 바깥쪽 함수의 변수를 수정하는데 사용\n",
    "  * ### global : 전역 변수를 수정하는 데 사용"
   ],
   "metadata": {
    "collapsed": false
   },
   "id": "eaa18d872b9b2d02"
  },
  {
   "cell_type": "code",
   "execution_count": 14,
   "outputs": [
    {
     "name": "stdout",
     "output_type": "stream",
     "text": [
      "10\n",
      "5\n"
     ]
    }
   ],
   "source": [
    "# 두 변수 정의\n",
    "a = 5\n",
    "b = 10\n",
    "\n",
    "# 값 바꾸기\n",
    "a, b = b, a\n",
    " \n",
    "print(a)\n",
    "print(b)\n",
    " "
   ],
   "metadata": {
    "collapsed": false,
    "ExecuteTime": {
     "end_time": "2024-07-16T08:02:48.103818800Z",
     "start_time": "2024-07-16T08:02:48.087730300Z"
    }
   },
   "id": "ced3dee3e585346"
  },
  {
   "cell_type": "markdown",
   "source": [
    "## 두 변수의 값을 바꾸는 방법\n",
    "  * ### 튜플을 사용하여 두 변수를 쉽게 스왑해줌"
   ],
   "metadata": {
    "collapsed": false
   },
   "id": "abc19d37598dae17"
  },
  {
   "cell_type": "markdown",
   "source": [
    "## 문자열 리터럴\n",
    "  * ### 단일 인용부호(')로 둘러싸인 문자열 : single_quoted = 'Hello,Python!'\n",
    "  * ### 이중 인용부호 (\")로 둘러싸인 문자열: double_quoted = \"Hello, Python!\"\n",
    "  * ### 삼중 인용부호(''' 또는 \"\"\") : 여러 줄에 걸쳐 있는 문자열을 표현할 때 유용, 삼중 인용부호를 사용하면 개행 문자 \\n을 명시적으로 입력하지 않고도 여러 줄을 포함하는 문자열을 정의할 수 있음\n",
    "  * ### 이스케이프 시퀀스 :  문자열 리터럴 내에서 특수한 문자를 표현하기 위해 백슬래시(\\)를 사용하는 이스케이프 시퀀스가 있습니다. 예를 들어, 줄 바꿈을 나타내는 \\n, 탭을 나타내는 \\t 등이 있음\n",
    "  * ### Raw 문자열 리터럴 : 이스케이프 시퀀스를 해석하지 않고 문자 그대로 해석되는 문자열 리터럴입니다. r 접두사를 사용하여 표시됨\n",
    "  * ### 바이트 리터럴 :  바이트 문자열을 표현할 때는 b 접두사를 사용합니다. 바이트 문자열은 ASCII 문자만 포함할 수 있으며, 유니코드 문자는 지원하지 않음\n"
   ],
   "metadata": {
    "collapsed": false
   },
   "id": "1077f981e483a4fb"
  },
  {
   "cell_type": "code",
   "execution_count": 20,
   "outputs": [
    {
     "name": "stdout",
     "output_type": "stream",
     "text": [
      "Hello,\n",
      "python~!\n",
      "\n",
      "hello, \n",
      "Python\n",
      "C:\\Users\\Documents\n",
      "b'hello'\n"
     ]
    }
   ],
   "source": [
    "multi_line = '''Hello,\n",
    "python~!\n",
    "'''\n",
    "print(multi_line)\n",
    "\n",
    "escaped_string = \"hello, \\nPython\"\n",
    "print(escaped_string)\n",
    "\n",
    "raw_string = r'C:\\Users\\Documents'\n",
    "print(raw_string)\n",
    "\n",
    "byte_string = b'hello'\n",
    "print(byte_string)\n"
   ],
   "metadata": {
    "collapsed": false,
    "ExecuteTime": {
     "end_time": "2024-07-16T08:21:00.071923Z",
     "start_time": "2024-07-16T08:20:59.998355700Z"
    }
   },
   "id": "69acb0b5e4d3db80"
  },
  {
   "cell_type": "code",
   "execution_count": null,
   "outputs": [],
   "source": [
    "# 파이썬에서 상수 표현 관습\n",
    "MY_CONSTANT = 100\n",
    "PI = 3.14159\n",
    "MAX_RETRY_COUNT = 5\n",
    "\n",
    "# constants.py\n",
    "MY_CONSTANT = 100\n",
    "\n",
    "PI = 3.14159\n",
    "\n",
    "MAX_RETRY_COUNT = 5\n",
    "\n",
    "# main.py\n",
    "# import constants\n",
    "# \n",
    "# print(constants.MY_CONSTANT)\n",
    "# \n",
    "# print(constants.PI)\n",
    "# \n",
    "# print(constants.MAX_RETRY_COUNT)"
   ],
   "metadata": {
    "collapsed": false
   },
   "id": "8236e13669a05dd9"
  },
  {
   "cell_type": "markdown",
   "source": [
    "## 상수(constant)\n",
    "  * ### 다른 언어들에서처럼 상수를 정의하고 사용하는 고유한 문법은 없음\n",
    "  * ### 관습적으로 대문자로 변수를 작성하여 상수처럼 사용하는 방식이 사용됨 \n",
    "* ### 변수 이름을 대문자로 작성 \n",
    "  * ### 상수로 사용될 값을 변수에 할당하고 변수 이름을 대문자로 작성하여 상수임을 명시적으로 나타냄  \n",
    "* ### 변경하지 않도록 관리\n",
    "    * ### 관례적으로 대문자로 작성된 변수는 값이 변경되지 않아야 한다고 여겨집니다. 하지만 파이썬에서는 이를 엄격히 강제하지는 않음\n",
    "* ### 상수와 관련된 주의사항\n",
    "    * ### 만약 상수의 값을 불변으로 유지하고 싶다면, 해당 변수에 다른 값을 할당하지 않도록 코드를 작성하는 것이 좋음\n",
    "* ### 상수 모듈 사용하기 \n",
    "    * ###  constants.py와 같은 파일을 만들어 여기에 상수를 정의하고 다른 파일에서 이를 임포트하여 사용하는 방법  "
   ],
   "metadata": {
    "collapsed": false
   },
   "id": "cf51be20c553ff56"
  },
  {
   "cell_type": "markdown",
   "source": [
    "## 참조형의 종류\n",
    "  * ### 숫자형(Numbers)\n",
    "    *   int: 정수를 나타냅니다. 예를 들어, 42, -10 등이 int 형입니다.\n",
    "    * float: 부동 소수점 숫자를 나타냅니다. 예를 들어, 3.14, 2.718 등이 float 형입니다.\n",
    "    * complex: 복소수를 나타냅니다. 예를 들어, 3 + 4j, 1.5 - 2.5j 등이 complex 형입니다.\n",
    "  * ### 시퀀스형(Sequences)\n",
    "    * str: 문자열을 나타냅니다. 예를 들어, \"Hello\", 'Python' 등이 str 형입니다.\n",
    "    * list: 리스트를 나타냅니다. 예를 들어, [1, 2, 3], ['a', 'b', 'c'] 등이 list 형입니다\n",
    "    * tuple: 튜플을 나타냅니다. 예를 들어, (1, 2, 3), ('x', 'y', 'z') 등이 tuple 형입니다.\n",
    "    * range: 일정한 범위의 숫자를 나타냅니다. 예를 들어, range(5), range(1, 10, 2) 등이 range 형입니다.\n",
    "  * ### 집합형(Sets)\n",
    "    *  set: 집합을 나타냅니다. 예를 들어, {1, 2, 3}, {'apple', 'banana', 'cherry'} 등이 set 형입니다.\n",
    "    * frozenset: 불변 집합을 나타냅니다. 변경할 수 없는 set으로, frozenset({1, 2, 3}) 등이 frozenset 형입니다.\n",
    "  * ### 매핑형(Mappings)\n",
    "    *  dict: 사전을 나타냅니다. 키와 값의 쌍을 저장하며, { 'name': 'John', 'age': 30 } 등이 dict 형입니다.\n",
    "  * ### 바이트 시퀀스형(Byte sequences)\n",
    "    * bytes: 바이트의 불변 시퀀스를 나타냅니다. b'hello' 등이 bytes 형입니다.\n",
    "    * bytearray: 바이트의 가변 시퀀스를 나타냅니다. bytearray(b'hello') 등이 bytearray 형입니다.\n",
    "    * memoryview: 바이트 데이터에 대한 메모리 내의 접근을 나타냅니다.\n",
    "이 외에도 사용자가 정의한 클래스나 라이브러리에서 제공하는 다양한 객체 유형이 있을 수 있습니다. 파이썬은 객체지향 프로그래밍 언어이기 때문에 모든 데이터가 객체로 취급되며, 이러한 객체는 위에서 언급한 참조형들 중 하나에 속합니다."
   ],
   "metadata": {
    "collapsed": false
   },
   "id": "13fe2e61fbcb6cb5"
  },
  {
   "cell_type": "code",
   "execution_count": 24,
   "outputs": [
    {
     "name": "stdout",
     "output_type": "stream",
     "text": [
      "[2, 4, 6]\n",
      "[2, 4, 6]\n",
      "World\n",
      "World\n",
      "(1, 4, 7)\n",
      "(1, 4, 7)\n",
      "[2, 4, 6]\n"
     ]
    }
   ],
   "source": [
    "my_list = [0, 1, 2, 3, 4, 5, 6, 7, 8, 9]\n",
    "\n",
    "# 기본 슬라이싱 사용\n",
    "print(my_list[2:7:2])  # 출력: [2, 4, 6]\n",
    "\n",
    "# slice 객체 사용\n",
    "s = slice(2, 7, 2)\n",
    "print(my_list[s])  # 출력: [2, 4, 6]\n",
    "\n",
    "# 문자열 슬라이싱\n",
    "my_string = \"Hello, World!\"\n",
    "\n",
    "# 기본 슬라이싱 사용\n",
    "print(my_string[7:12])  # 출력: World\n",
    "\n",
    "# slice 객체 사용\n",
    "s = slice(7, 12)\n",
    "print(my_string[s])  # 출력: World\n",
    "\n",
    "# 튜플 슬라이싱\n",
    "my_tuple = (0, 1, 2, 3, 4, 5, 6, 7, 8, 9)\n",
    "\n",
    "# 기본 슬라이싱 사용\n",
    "print(my_tuple[1:8:3])  # 출력: (1, 4, 7)\n",
    "\n",
    "# slice 객체 사용\n",
    "s = slice(1, 8, 3)\n",
    "print(my_tuple[s])  # 출력: (1, 4, 7)\n",
    "\n",
    "# 슬라이싱의 유용성\n",
    "def process_data(data, slice_obj):\n",
    "    return data[slice_obj]\n",
    "\n",
    "my_data = [0, 1, 2, 3, 4, 5, 6, 7, 8, 9]\n",
    "\n",
    "s = slice(2, 8, 2)\n",
    "print(process_data(my_data, s))  # 출력: [2, 4, 6]"
   ],
   "metadata": {
    "collapsed": false,
    "ExecuteTime": {
     "end_time": "2024-07-16T08:59:18.442888300Z",
     "start_time": "2024-07-16T08:59:18.424617400Z"
    }
   },
   "id": "69e5479756a63597"
  },
  {
   "cell_type": "markdown",
   "source": [
    "## slice()\n",
    "  * ### 시퀀스 타입(리스트, 튜플, 문자열 등)의 부분집합을 생성하는데 사용되는 내장 함수\n",
    "  * ### slice 객체 : 슬라이싱의 시작,끝 그리고 단계(스텝)을 저장함\n",
    "  * ### slice(start,stop,step)\n",
    "    * start :  슬라이싱 시작 인덱스 (기본값은 None으로, 시퀀스의 처음을 의미)\n",
    "    * stop: 슬라이싱 끝 인덱스 (stop-1,필수 인자)\n",
    "    * step: 슬라이싱의 단계 (기본값은 None으로, 1을 의미)\n",
    "  * ### 슬라이싱의 유용성\n",
    "    *  slice 객체를 사용하면 슬라이싱을 함수 인자로 전달할 수 있습니다. 예를 들어, 데이터를 처리하는 여러 함수에서 동일한 슬라이싱 규칙을 적용할 때 유용"
   ],
   "metadata": {
    "collapsed": false
   },
   "id": "225db3a4dbdc018b"
  },
  {
   "cell_type": "code",
   "execution_count": 28,
   "outputs": [
    {
     "name": "stdout",
     "output_type": "stream",
     "text": [
      "True\n",
      "True\n",
      "False\n",
      "True\n",
      "True\n",
      "True\n",
      "False\n"
     ]
    }
   ],
   "source": [
    "# isinstance() 함수\n",
    "class Animal:\n",
    "    pass\n",
    "\n",
    "class Dog(Animal): # Dog의 조상은 Animal\n",
    "    pass\n",
    "\n",
    "dog = Dog()\n",
    "\n",
    "# isinstance() 함수 사용. 결과가 java와 동일\n",
    "print(isinstance(dog, Animal))  # 출력: True\n",
    "print(isinstance(dog, Dog))     # 출력: True\n",
    "print(isinstance(dog, str))     # 출력: False\n",
    "\n",
    "# isinstance() 함수의 추가 기능\n",
    "class Cat(Animal):\n",
    "    pass\n",
    "\n",
    "cat = Cat()\n",
    "\n",
    "print(isinstance(cat, (Animal, Cat)))  # 출력: True\n",
    "print(isinstance(cat, (Dog, Cat)))  # 출력: True\n",
    "print(isinstance(dog, (Dog, Cat)))  # 출력: True\n",
    "print(isinstance(dog, (str, int)))  # 출력: False"
   ],
   "metadata": {
    "collapsed": false,
    "ExecuteTime": {
     "end_time": "2024-07-16T09:05:58.676823700Z",
     "start_time": "2024-07-16T09:05:58.666858100Z"
    }
   },
   "id": "a94c0f983c9a49d5"
  },
  {
   "cell_type": "markdown",
   "source": [
    "## 자바의 instanceof는 파이썬의 무엇?\n",
    "  * ### isinstance() 함수\n",
    "    * 두개의 인자를 받음 : 객체와 클래스, 객체가 해당 클래스의 인스턴스이거나 해당 클래스의 서브클래스의 인스턴스이면 True를 반환하고, 그렇지 않으면 False를 반환\n",
    "  * ###  isinstance() 함수의 추가 기능\n",
    "    * isinstance() 함수는 단일 클래스뿐만 아니라 클래스의 튜플을 인자로 받을 수 있습니다. 이는 객체가 주어진 여러 클래스 중 하나의 인스턴스인지 확인하는 데 유용"
   ],
   "metadata": {
    "collapsed": false
   },
   "id": "764e79528b1a3b2d"
  },
  {
   "cell_type": "code",
   "execution_count": 33,
   "outputs": [
    {
     "name": "stdout",
     "output_type": "stream",
     "text": [
      "<class '__main__.MyClass'>\n",
      "MyClass\n",
      "False\n",
      "MyClass\n",
      "False\n"
     ]
    }
   ],
   "source": [
    "# __class__  사용법\n",
    "class MyClass:\n",
    "    pass\n",
    "\n",
    "obj = MyClass()\n",
    "print(obj.__class__)           # 출력: <class '__main__.MyClass'>\n",
    "print(obj.__class__.__name__)  # 출력: MyClass\n",
    "\n",
    "# type() 사용법\n",
    "class MyClass:\n",
    "    pass\n",
    "\n",
    "obj = MyClass()\n",
    "obj2 = type(obj)\n",
    "print(id(obj)==id(obj2))   \n",
    "print(type(obj))  # 출력: <class '__main__.MyClass'>\n",
    "print(type(obj).__name__)   # 출력: MyClass\n",
    "print(obj is obj2)\n",
    "\n",
    "# type() 함수로 새로운 클래스 생성\n",
    "NewClass = type('NewClass', (object,), {'x': 10, 'greet': lambda self: \"Hello\"})\n",
    "obj = NewClass()\n",
    "print(obj.x)           # 출력: 10\n",
    "print(obj.greet())     # 출력: Hello"
   ],
   "metadata": {
    "collapsed": false,
    "ExecuteTime": {
     "end_time": "2024-07-16T09:26:18.273806600Z",
     "start_time": "2024-07-16T09:26:18.232811100Z"
    }
   },
   "id": "bf44708ef58105ae"
  },
  {
   "cell_type": "markdown",
   "source": [
    "## 자바의 getClass()는 파이썬의 무엇? __class__와 type()\n",
    " * ### __class__ 속성\n",
    "    * __class__는 객체의 클래스에 대한 참조를 저장하는 속성입니다. 모든 Python 객체는 이 속성을 통해 자신의 클래스를 참조할 수 있음\n",
    "    * 사용 용도 : 주로 객체의 클래스에 직접 접근하거나 클래스 이름을 확인할 때 사용\n",
    "    * 형식 : 객체의 __class__ 속성은 해당 객체의 클래스 객체를 반환\n",
    " * ### type() 함수\n",
    "    *    type() 함수는 객체의 타입(클래스)를 반환합니다. 인스턴스가 아닌 클래스 객체를 인자로 넘기면, 새로운 클래스 객체를 동적으로 생성하는 데 사용\n",
    "    * 사용 용도: 객체의 타입을 확인할 때 사용됩니다. 또한, 세 개의 인자를 넘기면 새로운 클래스 객체를 동적으로 생성\n",
    "    * 형식: 객체를 인자로 넘기면 해당 객체의 클래스 객체를 반환\n",
    " * ### 직접 접근 vs 함수 호출\n",
    "    *  __class__: 객체의 클래스에 직접 접근할 수 있는 속성, obj.__class__와 같이 사용\n",
    "    * type(): 객체의 클래스를 반환하는 함수, type(obj)와 같이 사용\n",
    " * ### 새로운 클래스 생성\n",
    "    * __class__ : 클래스의 정보를 반환만 할뿐 클래스 생성하는 기능 X\n",
    "    * type() : 세 개의 인자 (name,bases,dict)를 사용하면 새로운 클래스를 동적으로 생성할 수 있음 \n",
    " * ### 일반적으로 객체의 클래스를 확인할 때는 type() 함수를 사용하고, 객체의 클래스 정보를 직접 조작하거나 접근할 때는 __class__ 속성을 사용"
   ],
   "metadata": {
    "collapsed": false
   },
   "id": "540a9e1dfc549bf4"
  },
  {
   "cell_type": "code",
   "execution_count": 37,
   "outputs": [
    {
     "name": "stdout",
     "output_type": "stream",
     "text": [
      "['another_attribute', 'custom_attribute']\n",
      "['custom_attribute', 'another_attribute']\n",
      "['Animal', 'Cat', 'Dog', 'In', 'MAX_RETRY_COUNT', 'MY_CONSTANT', 'MyClass', 'MyClass2', 'Out', 'PI', '_', '__', '___', '__builtin__', '__builtins__', '__doc__', '__loader__', '__name__', '__package__', '__session__', '__spec__', '_dh', '_i', '_i1', '_i10', '_i11', '_i12', '_i13', '_i14', '_i15', '_i16', '_i17', '_i18', '_i19', '_i2', '_i20', '_i21', '_i22', '_i23', '_i24', '_i25', '_i26', '_i27', '_i28', '_i29', '_i3', '_i30', '_i31', '_i32', '_i33', '_i34', '_i35', '_i36', '_i37', '_i4', '_i5', '_i6', '_i7', '_i8', '_i9', '_ih', '_ii', '_iii', '_oh', '_pydevd_bundle', 'a', 'b', 'byte_string', 'c', 'cat', 'd', 'dog', 'escaped_string', 'exit', 'flag', 'get_ipython', 'global_var', 'multi_line', 'my_data', 'my_dict', 'my_function', 'my_list', 'my_set', 'my_string', 'my_tuple', 'obj', 'obj2', 'open', 'outer', 'outer_function', 'process_data', 'pydev_jupyter_vars', 'quit', 'raw_string', 'remove_imported_pydev_package', 's', 'sys', 'x', 'y', 'z']\n",
      "['x', 'y', '__module__', '__init__', 'my_method', '__dict__', '__weakref__', '__doc__', '__new__', '__repr__', '__hash__', '__str__', '__getattribute__', '__setattr__', '__delattr__', '__lt__', '__le__', '__eq__', '__ne__', '__gt__', '__ge__', '__reduce_ex__', '__reduce__', '__getstate__', '__subclasshook__', '__init_subclass__', '__format__', '__sizeof__', '__dir__', '__class__']\n"
     ]
    }
   ],
   "source": [
    "class MyClass:\n",
    "    def __init__(self):\n",
    "        self.x = 10\n",
    "        self.y = 20\n",
    "\n",
    "    def my_method(self):\n",
    "        pass\n",
    "\n",
    "    def __dir__(self):\n",
    "        return ['custom_attribute', 'another_attribute']\n",
    "\n",
    "obj = MyClass()\n",
    "\n",
    "# dir() 사용 - __dir__() 오버라이드로 인해 커스터마이즈된 출력\n",
    "print(dir(obj))\n",
    "\n",
    "# __dir__() 직접 사용\n",
    "print(obj.__dir__())\n",
    "\n",
    "class MyClass2:\n",
    "    def __init__(self):\n",
    "        self.x = 10\n",
    "        self.y = 20\n",
    "\n",
    "    def my_method(self):\n",
    "        pass\n",
    "\n",
    "\n",
    "obj = MyClass2()\n",
    "\n",
    "print(dir())\n",
    "\n",
    "print(obj.__dir__())"
   ],
   "metadata": {
    "collapsed": false,
    "ExecuteTime": {
     "end_time": "2024-07-16T09:56:38.915746300Z",
     "start_time": "2024-07-16T09:56:38.854655400Z"
    }
   },
   "id": "d655e96df2dfcf1a"
  },
  {
   "cell_type": "markdown",
   "source": [
    "## dir()과 __dir__()의 차이는?\n",
    "  * ### 둘 다 객체의 속성과 메서드를 나열하는데 사용됨\n",
    "  * ### dir() 함수\n",
    "    *  주어진 객체의 속성 및 메서드 목록을 반환, 객체가 제공되지 않으면 현재 범위의 이름들을 나열\n",
    "    * 사용 용도: 디버깅과 탐색에 유용하며, 사용하기 쉬움\n",
    "    * 출력 : dir() 함수는 객체의 __dir__() 메서드를 호출하여 반환된 리스트를 사용, 제공된 객체가 없다면, dir() 함수는 현재 로컬 범위에 있는 변수와 함수를 나열\n",
    "  * ### __dir__() 함수\n",
    "    * 객체의 사용자 정의 속성 및 메서드의 목록을 반환하는 메서드, 이 메서드를 오버라이드하여 dir() 함수의 출력을 제어할 수 있음\n",
    "    * 사용 용도: 주로 클래스나 객체 내에서 사용되며, dir() 함수가 호출될 때 사용\n",
    "    * 출력: __dir__() 메서드는 일반적으로 커스터마이즈된 속성 및 메서드 목록을 반환\n",
    "  * ### 주요 차이점\n",
    "    *  사용 용도\n",
    "        * dir(): 함수 형태로 호출되며, 객체의 속성 및 메서드를 나열\n",
    "        *  __dir__(): 객체의 메서드로 호출되며, 주로 dir() 함수에 의해 호출 \n",
    "    * 커스터마이즈 가능성\n",
    "        * dir(): 기본적으로 내장된 동작을 수행하지만, 클래스의 __dir__() 메서드를 오버라이드하여 출력을 변경할 수 있음\n",
    "        * __dir__(): 클래스 내에서 오버라이드하여 사용자 정의 동작을 구현할 수 있음\n",
    "  * ### 왜 dir(obj)는 값이 뒤바뀌어서 출력되는가?\n",
    "    *  dir(obj) 함수는 obj.__dir__() 메서드를 호출하여 반환된 리스트를 가져옴\n",
    "    * dir() 함수는 반환된 리스트를 알파벳 순으로 정렬\n",
    "    * obj.__dir__()는 커스터마이즈된 리스트 ['custom_attribute', 'another_attribute']를 반환하지만, dir() 함수는 이 리스트를 정렬하여 ['another_attribute', 'custom_attribute']로 반환\n"
   ],
   "metadata": {
    "collapsed": false
   },
   "id": "a6f793b360993f2e"
  },
  {
   "cell_type": "code",
   "execution_count": 47,
   "outputs": [
    {
     "name": "stdout",
     "output_type": "stream",
     "text": [
      "10\n",
      "100\n",
      "200\n",
      "Hello, World!\n",
      "I am a new global variable\n",
      "['ArithmeticError', 'AssertionError', 'AttributeError', 'BaseException', 'BaseExceptionGroup', 'BlockingIOError', 'BrokenPipeError', 'BufferError', 'BytesWarning', 'ChildProcessError', 'ConnectionAbortedError', 'ConnectionError', 'ConnectionRefusedError', 'ConnectionResetError', 'DeprecationWarning', 'EOFError', 'Ellipsis', 'EncodingWarning', 'EnvironmentError', 'Exception', 'ExceptionGroup', 'False', 'FileExistsError', 'FileNotFoundError', 'FloatingPointError', 'FutureWarning', 'GeneratorExit', 'IOError', 'ImportError', 'ImportWarning', 'IndentationError', 'IndexError', 'InterruptedError', 'IsADirectoryError', 'KeyError', 'KeyboardInterrupt', 'LookupError', 'MemoryError', 'ModuleNotFoundError', 'NameError', 'None', 'NotADirectoryError', 'NotImplemented', 'NotImplementedError', 'OSError', 'OverflowError', 'PendingDeprecationWarning', 'PermissionError', 'ProcessLookupError', 'RecursionError', 'ReferenceError', 'ResourceWarning', 'RuntimeError', 'RuntimeWarning', 'StopAsyncIteration', 'StopIteration', 'SyntaxError', 'SyntaxWarning', 'SystemError', 'SystemExit', 'TabError', 'TimeoutError', 'True', 'TypeError', 'UnboundLocalError', 'UnicodeDecodeError', 'UnicodeEncodeError', 'UnicodeError', 'UnicodeTranslateError', 'UnicodeWarning', 'UserWarning', 'ValueError', 'Warning', 'WindowsError', 'ZeroDivisionError', '__IPYTHON__', '__build_class__', '__debug__', '__doc__', '__import__', '__loader__', '__name__', '__package__', '__spec__', 'abs', 'aiter', 'all', 'anext', 'any', 'ascii', 'bin', 'bool', 'breakpoint', 'bytearray', 'bytes', 'callable', 'chr', 'classmethod', 'compile', 'complex', 'copyright', 'credits', 'delattr', 'dict', 'dir', 'display', 'divmod', 'enumerate', 'eval', 'exec', 'execfile', 'filter', 'float', 'format', 'frozenset', 'get_ipython', 'getattr', 'globals', 'hasattr', 'hash', 'help', 'hex', 'id', 'input', 'int', 'isinstance', 'issubclass', 'iter', 'len', 'license', 'list', 'locals', 'map', 'max', 'memoryview', 'min', 'next', 'object', 'oct', 'open', 'ord', 'pow', 'print', 'property', 'range', 'repr', 'reversed', 'round', 'runfile', 'set', 'setattr', 'slice', 'sorted', 'staticmethod', 'str', 'sum', 'super', 'tuple', 'type', 'vars', 'zip']\n"
     ]
    }
   ],
   "source": [
    "#### 1. 기본 사용\n",
    "\n",
    "# 전역 변수 정의\n",
    "a = 10\n",
    "b = 20\n",
    "print(a) # 출력: 10\n",
    "# globals() 함수 사용\n",
    "globals_dict = globals()\n",
    "\n",
    "# print(globals_dict) # 출력 : `a`와 `b` 변수뿐만 아니라, 모듈의 모든 전역 정의가 포함\n",
    "\n",
    "#### 2. 전역 변수 수정\n",
    "\n",
    "# 전역 변수 정의\n",
    "x = 5\n",
    "\n",
    "# globals() 함수 사용\n",
    "globals()['x'] = 100\n",
    "globals()['a'] = 200\n",
    "\n",
    "print(x) # 출력: 100\n",
    "print(a) # 출력: 200\n",
    "\n",
    "#### 3. 전역 함수 정의 및 호출\n",
    "\n",
    "# 전역 함수 정의\n",
    "def greet():\n",
    "    print(\"Hello, World!\")\n",
    "\n",
    "# globals() 함수 사용하여 함수 호출\n",
    "globals()['greet']()\n",
    "\n",
    "#### 4. 동적 전역 변수 생성\n",
    "\n",
    "# globals() 함수 사용하여 새로운 전역 변수 생성\n",
    "globals()['new_var'] = \"I am a new global variable\"\n",
    "\n",
    "# 새 전역 변수 출력\n",
    "print(new_var) # 출력: I am a new global variable\n",
    "\n",
    "# builtins 모듈에 포함된 모든 이름의 리스트가 출력\n",
    "import builtins \n",
    "print(dir(builtins))"
   ],
   "metadata": {
    "collapsed": false,
    "ExecuteTime": {
     "end_time": "2024-07-16T10:16:41.360701800Z",
     "start_time": "2024-07-16T10:16:41.305569700Z"
    }
   },
   "id": "58b89df38fa568a2"
  },
  {
   "cell_type": "markdown",
   "source": [
    "## globals()와 builtins()의 차이\n",
    "   * ### globals()\n",
    "      * `globals()` 함수는 현재 전역 심볼 테이블을 나타내는 사전(dictionary)을 반환\n",
    "      *  전역 심볼 테이블은 현재 모듈 수준에서 정의된 모든 이름을 포함\n",
    "      * 이 함수는 주로 디버깅, 동적 코드 실행, 그리고 전역 변수를 다루기 위해 사용\n",
    "   - **전역 심볼 테이블** :  globals()`가 반환하는 사전은 현재 모듈의 전역 변수와 함수들을 포함\n",
    "   - **읽기 및 쓰기 가능**: 반환된 사전은 읽기 및 쓰기가 가능하여, 전역 변수를 동적으로 수정할 수 있음\n",
    "   * ### 주의 사항\n",
    "      * 전역 심볼 테이블을 수정하는 것은 코드의 가독성과 유지보수성을 해칠 수 있으므로, 필요한 경우에만 신중하게 사용하는 것이 좋음\n",
    "      * 특히 복잡한 코드베이스에서는 전역 변수의 사용을 최소화하고, 가능하면 지역 변수나 클래스/객체를 사용하는 것이 좋음\n",
    "   * ### builtins()\n",
    "      * Python의 내장 모듈로, Python 인터프리터가 기본적으로 제공하는 함수, 예외, 객체 등을 포함\n",
    "      *  이 모듈은 자동으로 임포트되며, 별도의 임포트 없이 사용할 수 있음\n",
    "      *  #### 내장 함수 : print(), len(), type(), int(), str(), list(), dict(), max(), min(), sum() 등\n",
    "      * #### 내장 예외 :  Exception, ValueError, TypeError, IndexError, KeyError, AttributeError, ImportError 등\n",
    "      * #### 기타 내장 객체 : True, False, None, Ellipsis, NotImplemented 등\n",
    "      * dir()을 사용하여 builtins의 내용 확인가능\n",
    "      *  import builtins print(dir(builtins)) 실행 시 builtins 모듈에 포함된 모든 이름의 리스트가 출력\n",
    "      * builtins 모듈은 Python의 기본 기능을 제공하는 중요한 모듈임. 이를 통해 Python의 기본 함수와 객체를 사용할 수 있으며, 내장 함수, 예외, 상수 등을 쉽게 활용할 수 있음. dir(builtins)를 사용하여 모듈의 전체 내용을 탐색하고, 필요한 기능을 찾아 사용할 수 있음."
   ],
   "metadata": {
    "collapsed": false
   },
   "id": "976f10403a8d809b"
  },
  {
   "cell_type": "code",
   "execution_count": null,
   "outputs": [],
   "source": [
    "#### 모듈의 생성과 사용\n",
    "### 모듈 생성 : 새로운 파일에 함수, 클래스 등을 정의하여 모듈을 생성\n",
    "\n",
    "# module.py\n",
    "\n",
    "def greet(name):\n",
    "    print(f\"Hello, {name}!\")\n",
    "    \n",
    "### 모듈 사용 : 다른 파이썬 파일에서 import 문을 사용하여 모듈을 가져와 사용할 수 있음\n",
    "\n",
    "# main.py\n",
    "import module\n",
    "\n",
    "module.greet(\"Alice\")  # 출력: Hello, Alice!\n",
    "\n",
    "#[참고] dir(모듈이름)으로 모듈에 속한 멤버를 알 수 있다. 예 dir(math)"
   ],
   "metadata": {
    "collapsed": false
   },
   "id": "d28c9232ea88155f"
  },
  {
   "cell_type": "markdown",
   "source": [
    "## 모듈(Module)\n",
    "  * 모듈(Module)은 파이썬에서 코드를 구성하고 관리하는 데 사용되는 기본적인 단위\n",
    "  * 모듈은 함수, 클래스, 변수 등을 포함할 수 있는 파일이며, 다른 파이썬 프로그램에서 재사용될 수 있는 코드의 집합\n",
    "  - **파일 기반 단위** : 모듈은 일반적으로 하나의 .py 확장자를 가진 파일로 표현됨, 예를 들어, module.py라는 파일은 module 모듈을 나타냄\n",
    "  - **네임스페이스** :  모듈은 자체적인 네임스페이스(namespace)를 가짐,즉, 모듈 안에서 정의된 함수, 클래스, 변수 등은 모듈이름.식별자 형식으로 접근할 수 있음 \n",
    "  - **재사용성** : 모듈은 코드를 논리적으로 구성하고, 다른 프로그램에서 재사용할 수 있도록 도움. 이는 코드의 유지보수성과 확장성을 높이는 데 기여\n",
    "  * 모듈의 종류\n",
    "    - **표준 라이브러리 모듈**: 파이썬에 기본으로 포함된 모듈들로, 예를 들어 math, random, datetime 등\n",
    "    - **사용자 정의 모듈**: 개발자가 직접 만든 모듈로, 자신의 함수, 클래스를 포함하여 재사용할 수 있습니다.\n",
    "    - **서드 파티 모듈**: 외부 라이브러리에서 제공하는 모듈들로, requests, numpy, pandas 등이 있습니다.\n",
    "  * 모듈의 임포트 방법\n",
    "    - **단순 임포트** : import module_name\n",
    "    - **별칭(alias)을 사용한 임포트** : import module_name as alias_name\n",
    "    - **특정 항목만 임포트** : from module_name import item_name\n",
    "    - **모듈 내 모든 항목 임포트** : from module_name import *\n",
    "        "
   ],
   "metadata": {
    "collapsed": false
   },
   "id": "8fed04e47ade6cdd"
  }
 ],
 "metadata": {
  "kernelspec": {
   "display_name": "Python 3",
   "language": "python",
   "name": "python3"
  },
  "language_info": {
   "codemirror_mode": {
    "name": "ipython",
    "version": 2
   },
   "file_extension": ".py",
   "mimetype": "text/x-python",
   "name": "python",
   "nbconvert_exporter": "python",
   "pygments_lexer": "ipython2",
   "version": "2.7.6"
  }
 },
 "nbformat": 4,
 "nbformat_minor": 5
}
