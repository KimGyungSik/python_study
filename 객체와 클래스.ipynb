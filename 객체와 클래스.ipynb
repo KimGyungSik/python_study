{
 "cells": [
  {
   "cell_type": "markdown",
   "source": [
    "## 클래스란\n",
    " * 다양한 객체를 사용하기 위한 하나의 템플릿\n",
    "\n",
    " * 객체를 생성하는 하나의 구조이며서 하나의 자료형이다\n",
    "\n",
    " * 속성은 클래스와 객체 속성으로 구분한다. 보통 객체의 속성은 객체마다 만들어지고 클래스 속성은 클래스에 한번만들어진다.\n",
    "\n",
    "### 클래스 정의\n",
    "* 클래스는 객체를 만드는 템플릿이다.\n",
    "* 파이썬 클래스도 하나의 객체이다. 클래스를 만드는 메타 클래스(type) 이 존재한다.\n",
    "* 클래스를 작성하면 다른 클래스를 상속해서 기능을 확장할 수 있다."
   ],
   "metadata": {
    "collapsed": false
   },
   "id": "a314ed572d55eac1"
  },
  {
   "cell_type": "markdown",
   "source": [
    "### 속성"
   ],
   "metadata": {
    "collapsed": false
   },
   "id": "656e7507925eedf4"
  },
  {
   "cell_type": "code",
   "execution_count": 18,
   "id": "initial_id",
   "metadata": {
    "collapsed": true,
    "ExecuteTime": {
     "end_time": "2024-07-22T06:58:08.318248800Z",
     "start_time": "2024-07-22T06:58:08.305359500Z"
    }
   },
   "outputs": [
    {
     "name": "stdout",
     "output_type": "stream",
     "text": [
      "<__main__.Cat object at 0x0000029A1FD83FE0>\n"
     ]
    }
   ],
   "source": [
    "class Cat:\n",
    "    pass\n",
    "\n",
    "a_cat = Cat()\n",
    "a_cat\n",
    "\n",
    "another_cat = Cat()\n",
    "print(another_cat)\n",
    "\n",
    "a_cat.age = 3\n",
    "a_cat.name = \"Mr.FFU\"\n",
    "a_cat.nemesis = another_cat\n",
    "\n",
    "# 런타임에 속성 추가 가능\n",
    "a_cat.age # 3\n",
    "a_cat.name # Mr.FFU\n",
    "a_cat.nemesis # <__main__.Cat at 0x29a1fa2bec0>\n",
    "\n",
    "# another_cat.name # 정의되지 않았음\n",
    "# another_cat.name = \"Mr. FFUe\" # 정의되지 않았음\n",
    "# another_cat.name\n",
    "\n",
    "a_cat.nemesis.name = \"Mr.FFEQQ\"\n",
    "another_cat.name # why? 같은 메모리주소를 가르키는 객체에 속성을 추가했기때문\n",
    "\n",
    "B = Cat() # 새 객체를 만들면 내부에 아무런 속성이 없다.\n",
    "\n",
    "\n"
   ]
  },
  {
   "cell_type": "markdown",
   "source": [
    "### 메서드\n",
    "### 초기화 : `__init__()`\n",
    " "
   ],
   "metadata": {
    "collapsed": false
   },
   "id": "dcedc1572ed7acd0"
  },
  {
   "cell_type": "code",
   "execution_count": 22,
   "outputs": [
    {
     "name": "stdout",
     "output_type": "stream",
     "text": [
      "Gumi\n"
     ]
    }
   ],
   "source": [
    "class Cat():\n",
    "    def __init__(self,name):\n",
    "        self.name = name\n",
    "        \n",
    "cat = Cat('Mini')\n",
    "cat.name = 'Gumi'\n",
    "print(cat.name)"
   ],
   "metadata": {
    "collapsed": false,
    "ExecuteTime": {
     "end_time": "2024-07-22T07:07:51.384431100Z",
     "start_time": "2024-07-22T07:07:51.376973100Z"
    }
   },
   "id": "27d6a3256b888ca0"
  },
  {
   "cell_type": "markdown",
   "source": [
    "## 상속\n",
    "### 기존 클래스에 필요한 기능 추가\n"
   ],
   "metadata": {
    "collapsed": false
   },
   "id": "a635d575120c7abe"
  },
  {
   "cell_type": "code",
   "execution_count": 25,
   "outputs": [
    {
     "name": "stdout",
     "output_type": "stream",
     "text": [
      "Iam Car!\n",
      "Iam Car!\n"
     ]
    }
   ],
   "source": [
    "class Car():\n",
    "    def exclaim(self):\n",
    "        print(\"Iam Car!\")\n",
    "class Yugo(Car):\n",
    "    pass\n",
    "\n",
    "# 서브클래스인지 확인가능한 함수\n",
    "issubclass(Yugo,Car) # True\n",
    "\n",
    "give_me_a_car = Car()\n",
    "give_me_a_yugo = Yugo()\n",
    "\n",
    "give_me_a_car.exclaim()\n",
    "give_me_a_yugo.exclaim()"
   ],
   "metadata": {
    "collapsed": false,
    "ExecuteTime": {
     "end_time": "2024-07-22T07:22:55.491490300Z",
     "start_time": "2024-07-22T07:22:55.476082700Z"
    }
   },
   "id": "4fa1d05b389b08c2"
  },
  {
   "cell_type": "markdown",
   "source": [
    "### 메서드 오버라이드(change)\n"
   ],
   "metadata": {
    "collapsed": false
   },
   "id": "70b2158b63c9142f"
  },
  {
   "cell_type": "code",
   "execution_count": 31,
   "outputs": [
    {
     "name": "stdout",
     "output_type": "stream",
     "text": [
      "Iam Car!\n",
      "Iam Yugo!\n",
      "Fudd\n",
      "DoctorFudd\n",
      "Fudd, Esquire\n"
     ]
    }
   ],
   "source": [
    "class Car():\n",
    "    def exclaim(self):\n",
    "        print(\"Iam Car!\")\n",
    "class Yugo(Car):\n",
    "    def exclaim(self):\n",
    "        print(\"Iam Yugo!\")\n",
    "\n",
    "give_me_a_car = Car()\n",
    "give_me_a_yugo = Yugo()\n",
    "\n",
    "give_me_a_car.exclaim()\n",
    "give_me_a_yugo.exclaim()\n",
    "\n",
    "class Person():\n",
    "    def __init__(self,name):\n",
    "        self.name = name\n",
    "        \n",
    "class MDPerson(Person):\n",
    "    def __init__(self,name):\n",
    "        self.name = \"Doctor\"+name\n",
    "class JDPerson(Person):\n",
    "    def __init__(self,name):\n",
    "        self.name = name + \", Esquire\"\n",
    "\n",
    "person = Person(\"Fudd\")\n",
    "doctor = MDPerson(\"Fudd\")\n",
    "lawyer =  JDPerson(\"Fudd\")\n",
    "print(person.name)\n",
    "print(doctor.name)\n",
    "print(lawyer.name)\n"
   ],
   "metadata": {
    "collapsed": false,
    "ExecuteTime": {
     "end_time": "2024-07-22T07:30:55.426183900Z",
     "start_time": "2024-07-22T07:30:55.413991100Z"
    }
   },
   "id": "a89a6f8526d6d7ad"
  },
  {
   "cell_type": "markdown",
   "source": [
    "### super() : 자식 클래스에서 부모 클래스를 호출"
   ],
   "metadata": {
    "collapsed": false
   },
   "id": "9ec0237d30bd3327"
  },
  {
   "cell_type": "code",
   "execution_count": 38,
   "outputs": [
    {
     "name": "stdout",
     "output_type": "stream",
     "text": [
      "ss\n"
     ]
    }
   ],
   "source": [
    "class Person():\n",
    "    def __init__(self,name):\n",
    "        self.name = name\n",
    "        \n",
    "class EmailPerson(Person):\n",
    "    def __init__(self,name,email):\n",
    "        self.name = name # 직접 초기화 -> 자바와 다른점 : 자손클래스에서 조상멤버를 직접 초기화시켜줄 수 있음\n",
    "        # super().__init__(name)\n",
    "        self.email = email\n",
    "\n",
    "s = EmailPerson(\"ss\")\n",
    "print(s.name)"
   ],
   "metadata": {
    "collapsed": false,
    "ExecuteTime": {
     "end_time": "2024-07-22T07:37:11.729751200Z",
     "start_time": "2024-07-22T07:37:11.723792300Z"
    }
   },
   "id": "8e085197b8fb422b"
  },
  {
   "cell_type": "markdown",
   "source": [
    "### 다중 상속\n",
    "* ### 여러 부모 클래스를 상속받을 수 있음\n",
    "* ### 두 부모 클래스에서 같은 이름을 가진 경우 어떻게 판별?\n",
    "    * ### 파이썬의 상속은 메서드 해석 순서에 달려있음(MRO)\n",
    "    * ### 파이썬 클래스에는 특수 메서드 mro()가 있음 -> 해당 클래스 객체에 대한 메서드 또는 속성을 찾는 데 필요한 클래스의 리스트를 반환"
   ],
   "metadata": {
    "collapsed": false
   },
   "id": "726970e43ea8848"
  },
  {
   "cell_type": "code",
   "execution_count": 48,
   "outputs": [
    {
     "name": "stdout",
     "output_type": "stream",
     "text": [
      "Heeee Heigth\n"
     ]
    }
   ],
   "source": [
    "class Animal:\n",
    "    def says(self):\n",
    "        return 'I speak!'\n",
    "class Horse(Animal):\n",
    "    def says(self):\n",
    "        return 'Heigth'\n",
    "class Donkey(Animal):\n",
    "    def says(self):\n",
    "        return 'Heeee'\n",
    "class Mule(Donkey,Horse): # 찾는 순서 : 객체 자신 -> 객체 클래스 -> 클래스의 첫번째 부모 클래스 -> 클래스의 두번쨰 부모 클래스 -> 부모의 부모 클래스\n",
    "    pass\n",
    "class Hinny(Horse,Donkey):\n",
    "    pass\n",
    "\n",
    "Mule.mro() # [__main__.Mule, __main__.Donkey, __main__.Horse, __main__.Animal, object]\n",
    "Hinny.mro() # [__main__.Hinny, __main__.Horse, __main__.Donkey, __main__.Animal, object]\n",
    "\n",
    "moule = Mule()\n",
    "hinny = Hinny()\n",
    "\n",
    "print(moule.says(),hinny.says())\n",
    "\n"
   ],
   "metadata": {
    "collapsed": false,
    "ExecuteTime": {
     "end_time": "2024-07-22T07:53:53.752335500Z",
     "start_time": "2024-07-22T07:53:53.737158900Z"
    }
   },
   "id": "5cb134a52d7ec393"
  },
  {
   "cell_type": "markdown",
   "source": [
    "### 믹스인\n",
    "* 클래스에서 제공해야 하는 추가적인 메서드만 정의하는 작은 클래스\n",
    "* 인스턴스 속성(attribue)를 정의하지 않으며 __init__생성자를 호출하도록 요구하지 않습니다\n",
    "* 한 클래스에 대해 많은 선택 기능을 제공할때 사용함\n",
    "* 많은 다른 클래스에서 하나의 특정 기능을 사용하려고 할때 사용함\n",
    "* 클래스에서 상속받은 Mixin의 메소드를 포함하고 있는 것처럼 행동하는것이 믹스인의 핵심\n",
    "* Mixin을 위한 특별한 키워드는 없으며, 단지 다중상속을 통해서 만들기 때문에 이 과정에서 문제가 생길 소지가 있음\n",
    "\n",
    "### Mixin 과 Compositon의 차이점\n",
    "* mixin은 IS-A를 의미합니다. B IS A (B는 A이다)\n",
    "* Composition은 HAS-A를 의미합니다. B HAS A (B는 A를 가지고 있다)"
   ],
   "metadata": {
    "collapsed": false
   },
   "id": "2e1541d411c24e52"
  },
  {
   "cell_type": "code",
   "execution_count": 49,
   "outputs": [
    {
     "name": "stdout",
     "output_type": "stream",
     "text": [
      "Mixin1\n",
      "Mixin2\n"
     ]
    }
   ],
   "source": [
    "class Mixin1 :\n",
    "    def test(self):\n",
    "        print(\"Mixin1\")\n",
    "\n",
    "class Mixin2 :\n",
    "    def test1(self):\n",
    "        print(\"Mixin2\")\n",
    "\n",
    "class MyClass(Mixin1, Mixin2):\n",
    "    pass\n",
    "m = MyClass()\n",
    "m.test()\n",
    "m.test1()"
   ],
   "metadata": {
    "collapsed": false,
    "ExecuteTime": {
     "end_time": "2024-07-22T08:00:17.861543400Z",
     "start_time": "2024-07-22T08:00:17.813974400Z"
    }
   },
   "id": "5fa788211412ed0a"
  },
  {
   "cell_type": "markdown",
   "source": [
    "### 자신 : self\n"
   ],
   "metadata": {
    "collapsed": false
   },
   "id": "c39c1dbb2a57e669"
  },
  {
   "cell_type": "code",
   "execution_count": 50,
   "outputs": [
    {
     "name": "stdout",
     "output_type": "stream",
     "text": [
      "Iam Car!\n"
     ]
    }
   ],
   "source": [
    "a_car = Car()\n",
    "a_car.exclaim()\n",
    "# a_car 객체의 Car클래스를 찾는다\n",
    "# a_car객체를 Car 클래스 exclaim() 메서드의 self 매개변수에 전달 "
   ],
   "metadata": {
    "collapsed": false,
    "ExecuteTime": {
     "end_time": "2024-07-22T08:04:23.571084200Z",
     "start_time": "2024-07-22T08:04:23.562569900Z"
    }
   },
   "id": "dc53a4b48e47bbe1"
  },
  {
   "cell_type": "markdown",
   "source": [
    "### 속성 접근\n",
    "   ### 직접 접근"
   ],
   "metadata": {
    "collapsed": false
   },
   "id": "10f5d5a57086bfe3"
  },
  {
   "cell_type": "code",
   "execution_count": 52,
   "outputs": [
    {
     "data": {
      "text/plain": "'Dappe'"
     },
     "execution_count": 52,
     "metadata": {},
     "output_type": "execute_result"
    }
   ],
   "source": [
    "class Duck:\n",
    "    def __init__(self,input_name):\n",
    "        self.name = input_name\n",
    "\n",
    "fowl = Duck('Daffy')\n",
    "fowl.name # 'Daffy'\n",
    "fowl.name = 'Dappe'\n",
    "fowl.name # 직접 접근 "
   ],
   "metadata": {
    "collapsed": false,
    "ExecuteTime": {
     "end_time": "2024-07-22T08:07:45.349613600Z",
     "start_time": "2024-07-22T08:07:45.340372700Z"
    }
   },
   "id": "c54919be4dd5b97d"
  },
  {
   "cell_type": "markdown",
   "source": [
    "### Getter/Setter 메서드\n"
   ],
   "metadata": {
    "collapsed": false
   },
   "id": "6a2940c08ab14416"
  },
  {
   "cell_type": "code",
   "execution_count": 59,
   "outputs": [
    {
     "name": "stdout",
     "output_type": "stream",
     "text": [
      "inside the getter\n",
      "inside the setter\n",
      "inside the getter\n"
     ]
    },
    {
     "data": {
      "text/plain": "'soal'"
     },
     "execution_count": 59,
     "metadata": {},
     "output_type": "execute_result"
    }
   ],
   "source": [
    "class Duck:\n",
    "    def __init__(self,input_name):\n",
    "        self.hidden_name = input_name\n",
    "    def get_name(self):\n",
    "        print('inside the getter')\n",
    "        return self.hidden_name\n",
    "    def set_name(self,input_name):\n",
    "        print('inside the setter')\n",
    "        self.hidden_name = input_name\n",
    "        \n",
    "don = Duck('Donald')\n",
    "don.get_name()\n",
    "don.set_name('soal')\n",
    "don.get_name()\n"
   ],
   "metadata": {
    "collapsed": false,
    "ExecuteTime": {
     "end_time": "2024-07-22T08:14:28.085324800Z",
     "start_time": "2024-07-22T08:14:28.062661Z"
    }
   },
   "id": "5bb870916341640"
  },
  {
   "cell_type": "markdown",
   "source": [
    "### 속성 접근을 위한 프로퍼티\n",
    "* ### 첫번째 방법 : name = property(get_name,set_name) 구문 추가\n",
    "* ### 두번쨰 방법 : 데커레이터를 추가하고 두 메서드 이름(get_name과 set_name)을 name으로 변경\n",
    "    * getter 메서드 앞에 @property 데커레이터를 쓴다\n",
    "    * setter 메서드 앞에 @name.setter 데커레이터를 쓴다"
   ],
   "metadata": {
    "collapsed": false
   },
   "id": "fe973fa8e4a3bfc0"
  },
  {
   "cell_type": "code",
   "execution_count": 63,
   "outputs": [
    {
     "name": "stdout",
     "output_type": "stream",
     "text": [
      "inside the getter\n",
      "inside the setter\n",
      "inside the getter\n"
     ]
    },
    {
     "data": {
      "text/plain": "'Donna'"
     },
     "execution_count": 63,
     "metadata": {},
     "output_type": "execute_result"
    }
   ],
   "source": [
    "class Duck:\n",
    "    def __init__(self,input_name):\n",
    "        self.hidden_name = input_name\n",
    "    def get_name(self):\n",
    "        print('inside the getter')\n",
    "        return self.hidden_name\n",
    "    def set_name(self,input_name):\n",
    "        print('inside the setter')\n",
    "        self.hidden_name = input_name\n",
    "    name = property(get_name,set_name)\n",
    "\n",
    "don = Duck('Donald')\n",
    "don.name\n",
    "don.name = 'Donna'\n",
    "don.name"
   ],
   "metadata": {
    "collapsed": false,
    "ExecuteTime": {
     "end_time": "2024-07-22T08:16:33.918849900Z",
     "start_time": "2024-07-22T08:16:33.906823900Z"
    }
   },
   "id": "8bbc32c2df03032a"
  },
  {
   "cell_type": "code",
   "execution_count": 65,
   "outputs": [
    {
     "name": "stdout",
     "output_type": "stream",
     "text": [
      "inside the getter\n",
      "inside the setter\n",
      "inside the getter\n"
     ]
    },
    {
     "data": {
      "text/plain": "'Donald'"
     },
     "execution_count": 65,
     "metadata": {},
     "output_type": "execute_result"
    }
   ],
   "source": [
    "class Duck:\n",
    "    def __init__(self,input_name):\n",
    "        self.hidden_name = input_name\n",
    "    @property\n",
    "    def name(self):\n",
    "        print('inside the getter')\n",
    "        return self.hidden_name\n",
    "    @name.setter\n",
    "    def name(self,input_name):\n",
    "        print('inside the setter')\n",
    "        self.hidden_name = input_name\n",
    "        \n",
    "fowl = Duck('Howard')\n",
    "fowl.name\n",
    "fowl.name = 'Donald'\n",
    "fowl.name"
   ],
   "metadata": {
    "collapsed": false,
    "ExecuteTime": {
     "end_time": "2024-07-22T08:22:06.085502100Z",
     "start_time": "2024-07-22T08:22:06.074578400Z"
    }
   },
   "id": "c600836101a97a4b"
  },
  {
   "cell_type": "markdown",
   "source": [
    "### 계산된 값의 프로퍼티\n",
    "   * ### 프로퍼티는 계산된 값을 참조할 수도 있음\n",
    "   * ### 속성에 대한 setter 프로퍼티를 명시하지 않는다면 외부로부터 이 속성을 설정할 수 없음 (read-only)  "
   ],
   "metadata": {
    "collapsed": false
   },
   "id": "9f2117b117b832fe"
  },
  {
   "cell_type": "code",
   "execution_count": 69,
   "outputs": [
    {
     "ename": "AttributeError",
     "evalue": "property 'diameter' of 'Circle' object has no setter",
     "output_type": "error",
     "traceback": [
      "\u001B[1;31m---------------------------------------------------------------------------\u001B[0m",
      "\u001B[1;31mAttributeError\u001B[0m                            Traceback (most recent call last)",
      "Cell \u001B[1;32mIn[69], line 15\u001B[0m\n\u001B[0;32m     12\u001B[0m c\u001B[38;5;241m.\u001B[39mradius \u001B[38;5;241m=\u001B[39m \u001B[38;5;241m7\u001B[39m\n\u001B[0;32m     13\u001B[0m c\u001B[38;5;241m.\u001B[39mdiameter \u001B[38;5;66;03m# 14\u001B[39;00m\n\u001B[1;32m---> 15\u001B[0m c\u001B[38;5;241m.\u001B[39mdiameter \u001B[38;5;241m=\u001B[39m \u001B[38;5;241m20\u001B[39m\n",
      "\u001B[1;31mAttributeError\u001B[0m: property 'diameter' of 'Circle' object has no setter"
     ]
    }
   ],
   "source": [
    "class Circle():\n",
    "    def __init__(self,radius):\n",
    "        self.radius = radius\n",
    "    @property\n",
    "    def diameter(self):\n",
    "        return 2*self.radius\n",
    "\n",
    "c = Circle(5)\n",
    "c.radius # 5\n",
    "c.diameter # 10\n",
    "\n",
    "c.radius = 7\n",
    "c.diameter # 14\n",
    "\n",
    "c.diameter = 20 # Error "
   ],
   "metadata": {
    "collapsed": false,
    "ExecuteTime": {
     "end_time": "2024-07-22T08:34:39.910690600Z",
     "start_time": "2024-07-22T08:34:39.831330900Z"
    }
   },
   "id": "f52b6767a0880b61"
  },
  {
   "cell_type": "markdown",
   "source": [
    "### 프라이버시를 위한 네임 맹글링\n",
    "* ### 파이썬은 클래스 정의 외부에서 볼 수 없도록 하는 속성에 대한 네이밍 컨벤션이 있다 (속성 이름 앞에 두 언더바(__)를 붙이면 됨) "
   ],
   "metadata": {
    "collapsed": false
   },
   "id": "365d56dd99fc34ef"
  },
  {
   "cell_type": "code",
   "execution_count": 78,
   "outputs": [
    {
     "name": "stdout",
     "output_type": "stream",
     "text": [
      "inside the getter\n",
      "inside the setter\n",
      "inside the getter\n"
     ]
    },
    {
     "data": {
      "text/plain": "'Donald'"
     },
     "execution_count": 78,
     "metadata": {},
     "output_type": "execute_result"
    }
   ],
   "source": [
    "class Duck:\n",
    "    def __init__(self,input_name):\n",
    "        self.__name = input_name\n",
    "    @property\n",
    "    def name(self):\n",
    "        print('inside the getter')\n",
    "        return self.__name\n",
    "    @name.setter\n",
    "    def name(self,input_name):\n",
    "        print('inside the setter')\n",
    "        self.__name = input_name\n",
    "        \n",
    "fowl = Duck('Howrd')\n",
    "fowl.name\n",
    "fowl.name = 'Donald'\n",
    "fowl.name\n",
    "\n",
    "# fowl.__name # Error\n",
    "\n",
    "fowl._Duck__name # 'Donald'\n"
   ],
   "metadata": {
    "collapsed": false,
    "ExecuteTime": {
     "end_time": "2024-07-22T08:40:30.814183200Z",
     "start_time": "2024-07-22T08:40:30.766470900Z"
    }
   },
   "id": "16ee9fb682b3be40"
  },
  {
   "cell_type": "markdown",
   "source": [
    "### 클래스와 객체 속성\n"
   ],
   "metadata": {
    "collapsed": false
   },
   "id": "40144575a180e648"
  },
  {
   "cell_type": "code",
   "execution_count": 85,
   "outputs": [
    {
     "data": {
      "text/plain": "'orange'"
     },
     "execution_count": 85,
     "metadata": {},
     "output_type": "execute_result"
    }
   ],
   "source": [
    "class Fruit:\n",
    "    color = 'red'\n",
    "blueberry = Fruit()\n",
    "Fruit.color # red\n",
    "blueberry.color # red\n",
    "\n",
    "blueberry.color = 'blue'\n",
    "blueberry.color # blue\n",
    "\n",
    "Fruit.color # red\n",
    "\n",
    "Fruit.color = 'orange'\n",
    "Fruit.color # orange\n",
    "\n",
    "blueberry.color # blue\n",
    "\n",
    "new_fruit = Fruit()\n",
    "new_fruit.color # orange"
   ],
   "metadata": {
    "collapsed": false,
    "ExecuteTime": {
     "end_time": "2024-07-22T08:48:30.896835400Z",
     "start_time": "2024-07-22T08:48:30.888112400Z"
    }
   },
   "id": "f21eddfc177cd8bf"
  },
  {
   "cell_type": "markdown",
   "source": [
    "### 메서드 타입\n",
    " * ### 인스턴스 메서드 : 첫번째 매개변수가 self인것들\n",
    " * ### 클래스 메서드 : @classmethod / 클래스 자체를 참조\n",
    " * ### 정적 메서드 : @staticmethod / 자신의 객체나 클래스를 참조하지 않는 것"
   ],
   "metadata": {
    "collapsed": false
   },
   "id": "588a4d60996d74fd"
  },
  {
   "cell_type": "code",
   "execution_count": 86,
   "outputs": [
    {
     "name": "stdout",
     "output_type": "stream",
     "text": [
      "A has 3\n"
     ]
    }
   ],
   "source": [
    "# 클래스 메서드는 첫번째 매개변수가 클래스 자신이다 (cls) -> 자바의 static변수와 static메서드와 유사\n",
    "class A():\n",
    "    count = 0 # cv\n",
    "    def __init__(self):\n",
    "        A.count += 1\n",
    "    def exclaim(self):\n",
    "        print(\"i am an A!\")\n",
    "    @classmethod\n",
    "    def kids(cls): # cm\n",
    "        print(\"A has\", cls.count)\n",
    "\n",
    "easy_a = A()\n",
    "breezy_a = A()\n",
    "whee_a = A()\n",
    "A.kids() # A has 3"
   ],
   "metadata": {
    "collapsed": false,
    "ExecuteTime": {
     "end_time": "2024-07-22T09:14:10.139868Z",
     "start_time": "2024-07-22T09:14:10.104838900Z"
    }
   },
   "id": "6cadedf9c8bfb827"
  },
  {
   "cell_type": "code",
   "execution_count": 87,
   "outputs": [
    {
     "name": "stdout",
     "output_type": "stream",
     "text": [
      "This CoyoteWeapon has been brouhgt to you bt Acim\n"
     ]
    }
   ],
   "source": [
    "# 정적 메서드는 클래스나 객체에 영향을 미치지 못한다 / 단지 편의를 위해 존재 \n",
    "class CoyoteWeapon():\n",
    "    count = 0 \n",
    "    @staticmethod\n",
    "    def commercial():\n",
    "        # count 접근 못함\n",
    "        print('This CoyoteWeapon has been brouhgt to you bt Acim')\n",
    "\n",
    "CoyoteWeapon.commercial() # 객체 생성필요 X"
   ],
   "metadata": {
    "collapsed": false,
    "ExecuteTime": {
     "end_time": "2024-07-22T09:17:26.227912400Z",
     "start_time": "2024-07-22T09:17:26.216521600Z"
    }
   },
   "id": "ed241bf6c7c638e0"
  },
  {
   "cell_type": "markdown",
   "source": [
    "### 덕 타이핑 \n",
    "* 파이썬은 별도의 인터페이스가 없다.\n",
    "* 특정 메소드를 함수로 지정해서 다양한 객체를 전달해서 실행시키는 기법\n",
    "* 파이썬은 자동으로 부모 클래스 Quote의 초기화메서드를 호출해서 필드들을 초기화 시킨다."
   ],
   "metadata": {
    "collapsed": false
   },
   "id": "25ec37d343c41fe9"
  },
  {
   "cell_type": "code",
   "execution_count": 89,
   "outputs": [
    {
     "name": "stdout",
     "output_type": "stream",
     "text": [
      "eke says: im a hunting wabbits\n",
      "eke says: im a hunting wabbits\n",
      "Brook says: Babble\n"
     ]
    }
   ],
   "source": [
    "class Quoto():\n",
    "    def __init__(self,person,words):\n",
    "        self.person = person\n",
    "        self.words = words\n",
    "    def who(self):\n",
    "        return self.person\n",
    "    def says(self):\n",
    "        return self.words\n",
    "    \n",
    "class QuestionQuoto(Quoto):\n",
    "    def says(self):\n",
    "        return self.words +\"?\"\n",
    "class ExclamationQuoto(Quoto):\n",
    "    def says(self):\n",
    "        return self.words + '!'\n",
    "    \n",
    "    \n",
    "hunter = Quoto('eke',\"im a hunting wabbits\")\n",
    "print(hunter.who(),'says:',hunter.says())\n",
    "\n",
    "class BabbligBrook():\n",
    "    def who(self):\n",
    "        return 'Brook'\n",
    "    def says(self):\n",
    "        return 'Babble'\n",
    "    \n",
    "brook = BabbligBrook()\n",
    "\n",
    "def who_says(obj): # 특정 인터페이스를 한정\n",
    "    print(obj.who(), 'says:',obj.says())\n",
    "    \n",
    "who_says(hunter)\n",
    "who_says(brook) \n"
   ],
   "metadata": {
    "collapsed": false,
    "ExecuteTime": {
     "end_time": "2024-07-22T09:34:47.732673200Z",
     "start_time": "2024-07-22T09:34:47.715441300Z"
    }
   },
   "id": "4162b359afdfbbfa"
  },
  {
   "cell_type": "markdown",
   "source": [
    "### 파이썬에는 연산자가 없음\n",
    "* `__eq__(self,other)` : self==other"
   ],
   "metadata": {
    "collapsed": false
   },
   "id": "affd0468399220be"
  },
  {
   "cell_type": "code",
   "execution_count": 91,
   "outputs": [
    {
     "name": "stdout",
     "output_type": "stream",
     "text": [
      "ha\n"
     ]
    }
   ],
   "source": [
    "class Word():\n",
    "    def __init__(self,text):\n",
    "        self.text = text\n",
    "    def __eq__(self, word2):\n",
    "        return self.text.lower() == word2.text.lower()\n",
    "    def __str__(self):\n",
    "        return self.text\n",
    "    def __repr__(self):\n",
    "        return 'Word(\"'+self.text+'\")'\n",
    "\n",
    "first = Word('ha')\n",
    "first # __repr__() 호출\n",
    "print(first) # __str__() 호출"
   ],
   "metadata": {
    "collapsed": false,
    "ExecuteTime": {
     "end_time": "2024-07-22T09:43:15.567906200Z",
     "start_time": "2024-07-22T09:43:15.558265700Z"
    }
   },
   "id": "5894905e5dea3204"
  },
  {
   "cell_type": "markdown",
   "source": [
    "### aggregation과 composition : has-a 관계"
   ],
   "metadata": {
    "collapsed": false
   },
   "id": "567bc658c5e97d1f"
  },
  {
   "cell_type": "code",
   "execution_count": 92,
   "outputs": [
    {
     "name": "stdout",
     "output_type": "stream",
     "text": [
      "wide orange long\n"
     ]
    }
   ],
   "source": [
    "class Bill():\n",
    "    def __init__(self,desciption):\n",
    "        self.desciption = desciption\n",
    "\n",
    "class Tail():\n",
    "    def __init__(self,length):\n",
    "        self.length = length\n",
    "class Duck():\n",
    "    def __init__(self,bill,tail):\n",
    "        self.bill = bill\n",
    "        self.tail = tail\n",
    "    def about(self):\n",
    "        print(self.bill.desciption,self.tail.length)\n",
    "    \n",
    "a_tail = Tail('long')\n",
    "a_bill = Bill('wide orange')\n",
    "duck = Duck(a_bill,a_tail)\n",
    "duck.about()"
   ],
   "metadata": {
    "collapsed": false,
    "ExecuteTime": {
     "end_time": "2024-07-22T09:48:10.321849300Z",
     "start_time": "2024-07-22T09:48:10.307671700Z"
    }
   },
   "id": "fe6b910a35e7c639"
  },
  {
   "cell_type": "markdown",
   "source": [
    "### 네임드 튜플 : 튜플의 서브클래스\n",
    "* 네임드 튜플을 쓰기 위해선 모듈을 불러와야함 \n",
    "* 네임드 튜플은 불변 하지만 필드를 바꿔서 또 다른 네임드 튜플을 반환이 가능함\n",
    "* 변경이 불가능한 데이터 구조를 만들 때 사용함\n",
    "* 내부의 값을 변경할 때는 에러가 발생한다.\n"
   ],
   "metadata": {
    "collapsed": false
   },
   "id": "f35f4eff383408b7"
  },
  {
   "cell_type": "code",
   "execution_count": 99,
   "outputs": [
    {
     "ename": "AttributeError",
     "evalue": "can't set attribute",
     "output_type": "error",
     "traceback": [
      "\u001B[1;31m---------------------------------------------------------------------------\u001B[0m",
      "\u001B[1;31mAttributeError\u001B[0m                            Traceback (most recent call last)",
      "Cell \u001B[1;32mIn[99], line 13\u001B[0m\n\u001B[0;32m     11\u001B[0m duck3 \u001B[38;5;241m=\u001B[39m duck2\u001B[38;5;241m.\u001B[39m_replace(tail\u001B[38;5;241m=\u001B[39m\u001B[38;5;124m'\u001B[39m\u001B[38;5;124mmanaifienc\u001B[39m\u001B[38;5;124m'\u001B[39m,bill\u001B[38;5;241m=\u001B[39m\u001B[38;5;124m'\u001B[39m\u001B[38;5;124mcrushing\u001B[39m\u001B[38;5;124m'\u001B[39m)\n\u001B[0;32m     12\u001B[0m duck3 \u001B[38;5;66;03m# Duck(bill='crushing', tail='manaifienc')\u001B[39;00m\n\u001B[1;32m---> 13\u001B[0m duck3\u001B[38;5;241m.\u001B[39mbill \u001B[38;5;241m=\u001B[39m \u001B[38;5;124m\"\u001B[39m\u001B[38;5;124mefef\u001B[39m\u001B[38;5;124m\"\u001B[39m\n",
      "\u001B[1;31mAttributeError\u001B[0m: can't set attribute"
     ]
    }
   ],
   "source": [
    "from collections import namedtuple\n",
    "Duck = namedtuple('Duck','bill tail')\n",
    "duck = Duck('wide orange','long')\n",
    "duck # Duck(bill='wide orange', tail='long')\n",
    "duck.bill # 'wide orange'\n",
    "duck.tail # 'long'\n",
    "parts = {'bill':'wide orange','tail':'long'}\n",
    "duck2 = Duck(**parts)\n",
    "duck2 # Duck(bill='wide orange', tail='long')\n",
    "\n",
    "duck3 = duck2._replace(tail='manaifienc',bill='crushing')\n",
    "duck3 # Duck(bill='crushing', tail='manaifienc')\n",
    "duck3.bill = \"efef\" # 내부의 값을 변경할 때는 에러가 발생한다."
   ],
   "metadata": {
    "collapsed": false,
    "ExecuteTime": {
     "end_time": "2024-07-22T11:36:59.546740800Z",
     "start_time": "2024-07-22T11:36:59.458255300Z"
    }
   },
   "id": "3d5e79a0bbddd1be"
  },
  {
   "cell_type": "markdown",
   "source": [
    "### 데이터 클래스\n",
    "* 주로 데이터(속성)을 저장하기 위해 생성하는 클래스\n",
    "* 변수 이름 : 변수 타입 \n",
    "* 네임드튜플가 다르게 내부 속성의 값은 변경이 가능하다"
   ],
   "metadata": {
    "collapsed": false
   },
   "id": "ab5001c39a6ccf8c"
  },
  {
   "cell_type": "code",
   "execution_count": 98,
   "outputs": [
    {
     "data": {
      "text/plain": "'bisty'"
     },
     "execution_count": 98,
     "metadata": {},
     "output_type": "execute_result"
    }
   ],
   "source": [
    "from dataclasses import dataclass\n",
    "@dataclass\n",
    "class TeenyDataClass:\n",
    "    name: str\n",
    "    \n",
    "teeny = TeenyDataClass('bisty')\n",
    "teeny.name # 'bisty'\n",
    "\n"
   ],
   "metadata": {
    "collapsed": false,
    "ExecuteTime": {
     "end_time": "2024-07-22T11:34:24.799121900Z",
     "start_time": "2024-07-22T11:34:24.778652Z"
    }
   },
   "id": "e17783de0701a18c"
  }
 ],
 "metadata": {
  "kernelspec": {
   "display_name": "Python 3",
   "language": "python",
   "name": "python3"
  },
  "language_info": {
   "codemirror_mode": {
    "name": "ipython",
    "version": 2
   },
   "file_extension": ".py",
   "mimetype": "text/x-python",
   "name": "python",
   "nbconvert_exporter": "python",
   "pygments_lexer": "ipython2",
   "version": "2.7.6"
  }
 },
 "nbformat": 4,
 "nbformat_minor": 5
}
