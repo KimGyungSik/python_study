{
 "cells": [
  {
   "cell_type": "markdown",
   "source": [
    "### 객체 주소 및 원소 비교하기"
   ],
   "metadata": {
    "collapsed": false
   },
   "id": "662aec50fc9b00a1"
  },
  {
   "cell_type": "code",
   "execution_count": 1,
   "outputs": [],
   "source": [
    "numbers1 = [1,2,3]; numbers2 = [1,2,3]"
   ],
   "metadata": {
    "collapsed": false,
    "ExecuteTime": {
     "end_time": "2024-07-18T05:55:54.733065700Z",
     "start_time": "2024-07-18T05:55:54.722716500Z"
    }
   },
   "id": "68a71b5855129f1c"
  },
  {
   "cell_type": "code",
   "execution_count": 2,
   "outputs": [
    {
     "data": {
      "text/plain": "False"
     },
     "execution_count": 2,
     "metadata": {},
     "output_type": "execute_result"
    }
   ],
   "source": [
    "numbers1 is numbers2"
   ],
   "metadata": {
    "collapsed": false,
    "ExecuteTime": {
     "end_time": "2024-07-18T05:56:00.183212200Z",
     "start_time": "2024-07-18T05:56:00.166013600Z"
    }
   },
   "id": "915b3bfed6a606b8"
  },
  {
   "cell_type": "code",
   "execution_count": 3,
   "outputs": [
    {
     "data": {
      "text/plain": "(2238718468032, 2238718401600)"
     },
     "execution_count": 3,
     "metadata": {},
     "output_type": "execute_result"
    }
   ],
   "source": [
    "id(numbers1), id(numbers2)"
   ],
   "metadata": {
    "collapsed": false,
    "ExecuteTime": {
     "end_time": "2024-07-18T05:56:43.692661300Z",
     "start_time": "2024-07-18T05:56:43.637124500Z"
    }
   },
   "id": "658c1b55ff8991e3"
  },
  {
   "cell_type": "code",
   "execution_count": 4,
   "outputs": [
    {
     "data": {
      "text/plain": "True"
     },
     "execution_count": 4,
     "metadata": {},
     "output_type": "execute_result"
    }
   ],
   "source": [
    "numbers1 == numbers2"
   ],
   "metadata": {
    "collapsed": false,
    "ExecuteTime": {
     "end_time": "2024-07-18T05:56:59.029025600Z",
     "start_time": "2024-07-18T05:56:59.022182100Z"
    }
   },
   "id": "a67cf8b59847ef2c"
  },
  {
   "cell_type": "code",
   "execution_count": 7,
   "outputs": [
    {
     "data": {
      "text/plain": "False"
     },
     "execution_count": 7,
     "metadata": {},
     "output_type": "execute_result"
    }
   ],
   "source": [
    "class Some:\n",
    "    def __eq__(self, other):\n",
    "        return True\n",
    "\n",
    "o1 = Some(); o2 = Some()\n",
    "o1 is o2"
   ],
   "metadata": {
    "collapsed": false,
    "ExecuteTime": {
     "end_time": "2024-07-18T06:02:01.863912800Z",
     "start_time": "2024-07-18T06:02:01.846446700Z"
    }
   },
   "id": "95e5bef67e96bb89"
  },
  {
   "cell_type": "markdown",
   "source": [
    "## 딕셔너리와 셋\n",
    "\n",
    "### 키 즉 유일한 값을 가지고 값과 매핑된 자료구조 : map 클래스\n",
    "### 유일한 값만 가지는 자료구조 : set 클래스"
   ],
   "metadata": {
    "collapsed": false
   },
   "id": "4afc08367d0c7da0"
  },
  {
   "cell_type": "markdown",
   "source": [
    "## 리터럴 표기법 : 빈 딕셔너리"
   ],
   "metadata": {
    "collapsed": false
   },
   "id": "25c301b215378b2f"
  },
  {
   "cell_type": "code",
   "execution_count": 8,
   "outputs": [
    {
     "data": {
      "text/plain": "dict"
     },
     "execution_count": 8,
     "metadata": {},
     "output_type": "execute_result"
    }
   ],
   "source": [
    "type({})"
   ],
   "metadata": {
    "collapsed": false,
    "ExecuteTime": {
     "end_time": "2024-07-18T06:08:50.717747Z",
     "start_time": "2024-07-18T06:08:50.698883300Z"
    }
   },
   "id": "765cd680a221a7ed"
  },
  {
   "cell_type": "code",
   "execution_count": 11,
   "outputs": [
    {
     "data": {
      "text/plain": "{'a': 1, 'b': 2, 'c': 3, 'd': 5}"
     },
     "execution_count": 11,
     "metadata": {},
     "output_type": "execute_result"
    }
   ],
   "source": [
    "dict(zip(list(\"abcde\"),[1,2,3,5]))"
   ],
   "metadata": {
    "collapsed": false,
    "ExecuteTime": {
     "end_time": "2024-07-18T06:17:07.675204300Z",
     "start_time": "2024-07-18T06:17:07.653132900Z"
    }
   },
   "id": "2272af62f77bcde3"
  },
  {
   "cell_type": "code",
   "execution_count": 12,
   "outputs": [
    {
     "data": {
      "text/plain": "{0: 1, 1: 2, 2: 4, 3: 5}"
     },
     "execution_count": 12,
     "metadata": {},
     "output_type": "execute_result"
    }
   ],
   "source": [
    "dict(enumerate([1,2,4,5]))"
   ],
   "metadata": {
    "collapsed": false,
    "ExecuteTime": {
     "end_time": "2024-07-18T06:17:36.420780600Z",
     "start_time": "2024-07-18T06:17:36.401048300Z"
    }
   },
   "id": "82f6a314e80190c4"
  },
  {
   "cell_type": "code",
   "execution_count": 33,
   "outputs": [
    {
     "name": "stdout",
     "output_type": "stream",
     "text": [
      "2238733831936 2238733831936\n"
     ]
    }
   ],
   "source": [
    "first = {'a':'agony','b':'bliss','f':[1,2,3]}\n",
    "second = {'b': 'bages','c':'cnady'}\n",
    "map = {**first, **second}\n",
    "map['f'][0] = 5\n",
    "map\n",
    "first\n",
    "print(id(map['f']),id(first['f'])) # 내부에 리스트(가변객체)가 있으면 얕은 복사가 일어남 -> 깊은 복사를 해야함"
   ],
   "metadata": {
    "collapsed": false,
    "ExecuteTime": {
     "end_time": "2024-07-18T06:43:21.815543800Z",
     "start_time": "2024-07-18T06:43:21.802601Z"
    }
   },
   "id": "a2fba29f7b802469"
  },
  {
   "cell_type": "code",
   "execution_count": 35,
   "outputs": [
    {
     "data": {
      "text/plain": "frozenset({1, 2, 3})"
     },
     "execution_count": 35,
     "metadata": {},
     "output_type": "execute_result"
    }
   ],
   "source": [
    "set((1,2,3))\n",
    "frozenset([1,2,3]) # read only"
   ],
   "metadata": {
    "collapsed": false,
    "ExecuteTime": {
     "end_time": "2024-07-18T06:45:55.797368400Z",
     "start_time": "2024-07-18T06:45:55.779832800Z"
    }
   },
   "id": "9b06c29dc346963b"
  },
  {
   "cell_type": "markdown",
   "source": [
    "## 딕셔너리 메서드"
   ],
   "metadata": {
    "collapsed": false
   },
   "id": "1344b5bd32684137"
  },
  {
   "cell_type": "code",
   "execution_count": 37,
   "outputs": [
    {
     "name": "stdout",
     "output_type": "stream",
     "text": [
      "clear, copy, fromkeys, get, items, keys, pop, popitem, setdefault, update, values, "
     ]
    }
   ],
   "source": [
    "for i in dir(dict) :\n",
    "    print(i,end=\", \") if not i.startswith(\"_\") else _"
   ],
   "metadata": {
    "collapsed": false,
    "ExecuteTime": {
     "end_time": "2024-07-18T06:51:38.352832700Z",
     "start_time": "2024-07-18T06:51:38.345619800Z"
    }
   },
   "id": "4112e8df4e75cfee"
  },
  {
   "cell_type": "code",
   "execution_count": 43,
   "outputs": [
    {
     "data": {
      "text/plain": "({'b': None, 'c': None}, {'a': 100})"
     },
     "execution_count": 43,
     "metadata": {},
     "output_type": "execute_result"
    }
   ],
   "source": [
    "dd = {}\n",
    "dd['a'] = 100\n",
    "dd_ = dd.fromkeys(['b','c'])\n",
    "dd_\n",
    "dd_, dd"
   ],
   "metadata": {
    "collapsed": false,
    "ExecuteTime": {
     "end_time": "2024-07-18T06:54:19.148395200Z",
     "start_time": "2024-07-18T06:54:19.128717600Z"
    }
   },
   "id": "20a0626b85c85962"
  },
  {
   "cell_type": "markdown",
   "source": [
    "## 없는 원소 조회 및 갱신"
   ],
   "metadata": {
    "collapsed": false
   },
   "id": "a39fed0bda780a6f"
  },
  {
   "cell_type": "code",
   "execution_count": 44,
   "outputs": [
    {
     "name": "stdout",
     "output_type": "stream",
     "text": [
      "예외발생 'd'\n"
     ]
    }
   ],
   "source": [
    "try:\n",
    "    dd['d']\n",
    "except Exception as e:\n",
    "    print(\"예외발생\",e)"
   ],
   "metadata": {
    "collapsed": false,
    "ExecuteTime": {
     "end_time": "2024-07-18T06:56:49.837145700Z",
     "start_time": "2024-07-18T06:56:49.821540300Z"
    }
   },
   "id": "b2c962f441acfd60"
  },
  {
   "cell_type": "code",
   "execution_count": 50,
   "outputs": [
    {
     "data": {
      "text/plain": "'해당키가 없음'"
     },
     "execution_count": 50,
     "metadata": {},
     "output_type": "execute_result"
    }
   ],
   "source": [
    "dd.get('d',\"해당키가 없음\")"
   ],
   "metadata": {
    "collapsed": false,
    "ExecuteTime": {
     "end_time": "2024-07-18T06:58:46.112490Z",
     "start_time": "2024-07-18T06:58:46.101658800Z"
    }
   },
   "id": "5379673814003a20"
  },
  {
   "cell_type": "code",
   "execution_count": 47,
   "outputs": [
    {
     "data": {
      "text/plain": "'해당키가 없음'"
     },
     "execution_count": 47,
     "metadata": {},
     "output_type": "execute_result"
    }
   ],
   "source": [
    "dd.setdefault('d',\"해당키가 없음\")"
   ],
   "metadata": {
    "collapsed": false,
    "ExecuteTime": {
     "end_time": "2024-07-18T06:58:26.234571400Z",
     "start_time": "2024-07-18T06:58:26.193282400Z"
    }
   },
   "id": "1d0e8ab881ca9663"
  },
  {
   "cell_type": "code",
   "execution_count": 51,
   "outputs": [
    {
     "data": {
      "text/plain": "{'a': 100, 'd': '해당키가 없음'}"
     },
     "execution_count": 51,
     "metadata": {},
     "output_type": "execute_result"
    }
   ],
   "source": [
    "dd"
   ],
   "metadata": {
    "collapsed": false,
    "ExecuteTime": {
     "end_time": "2024-07-18T06:58:51.330139Z",
     "start_time": "2024-07-18T06:58:51.322829Z"
    }
   },
   "id": "7200c135c0e27936"
  },
  {
   "cell_type": "markdown",
   "source": [
    "## 딕셔너리 확장"
   ],
   "metadata": {
    "collapsed": false
   },
   "id": "b9a253e3b448fe29"
  },
  {
   "cell_type": "code",
   "execution_count": 52,
   "outputs": [
    {
     "data": {
      "text/plain": "{'a': 100, 'd': '해당키가 없음', 'c': 100}"
     },
     "execution_count": 52,
     "metadata": {},
     "output_type": "execute_result"
    }
   ],
   "source": [
    "dd.update({'c':100})\n",
    "dd"
   ],
   "metadata": {
    "collapsed": false,
    "ExecuteTime": {
     "end_time": "2024-07-18T07:03:02.676001Z",
     "start_time": "2024-07-18T07:03:02.641023100Z"
    }
   },
   "id": "7bad0a203fc9252e"
  },
  {
   "cell_type": "markdown",
   "source": [
    "## 집합 메서드"
   ],
   "metadata": {
    "collapsed": false
   },
   "id": "a9dfba043395669a"
  },
  {
   "cell_type": "code",
   "execution_count": 53,
   "outputs": [
    {
     "name": "stdout",
     "output_type": "stream",
     "text": [
      "add, clear, copy, difference, difference_update, discard, intersection, intersection_update, isdisjoint, issubset, issuperset, pop, remove, symmetric_difference, symmetric_difference_update, union, update, "
     ]
    }
   ],
   "source": [
    "for i in dir(set):\n",
    "    print(i,end=\", \") if not i.startswith(\"_\") else _"
   ],
   "metadata": {
    "collapsed": false,
    "ExecuteTime": {
     "end_time": "2024-07-18T07:03:57.783820900Z",
     "start_time": "2024-07-18T07:03:57.777813500Z"
    }
   },
   "id": "407b537196329427"
  },
  {
   "cell_type": "code",
   "execution_count": 57,
   "outputs": [
    {
     "data": {
      "text/plain": "['remove',\n 'pop',\n 'difference_update',\n 'symmetric_difference_update',\n 'discard',\n 'clear',\n 'add',\n 'intersection_update',\n 'update']"
     },
     "execution_count": 57,
     "metadata": {},
     "output_type": "execute_result"
    }
   ],
   "source": [
    "sf = set(dir(set)) - set(dir(frozenset))\n",
    "[x for x in sf if not x.startswith(\"_\")]"
   ],
   "metadata": {
    "collapsed": false,
    "ExecuteTime": {
     "end_time": "2024-07-18T07:08:23.802291900Z",
     "start_time": "2024-07-18T07:08:23.796750700Z"
    }
   },
   "id": "42fccfe20ffbff39"
  },
  {
   "cell_type": "code",
   "execution_count": 58,
   "outputs": [],
   "source": [
    "s1 = {1,4,5}; s2={4,6,7}"
   ],
   "metadata": {
    "collapsed": false,
    "ExecuteTime": {
     "end_time": "2024-07-18T07:10:25.088968300Z",
     "start_time": "2024-07-18T07:10:25.071955400Z"
    }
   },
   "id": "afaf1beae521cc11"
  },
  {
   "cell_type": "code",
   "execution_count": 61,
   "outputs": [
    {
     "data": {
      "text/plain": "{0, 1, 4, 5}"
     },
     "execution_count": 61,
     "metadata": {},
     "output_type": "execute_result"
    }
   ],
   "source": [
    "s1.add(0)\n",
    "s1"
   ],
   "metadata": {
    "collapsed": false,
    "ExecuteTime": {
     "end_time": "2024-07-18T07:11:05.369561900Z",
     "start_time": "2024-07-18T07:11:05.341773300Z"
    }
   },
   "id": "66e246bbc0af7a6a"
  },
  {
   "cell_type": "code",
   "execution_count": 63,
   "outputs": [
    {
     "data": {
      "text/plain": "{0, 1, 5}"
     },
     "execution_count": 63,
     "metadata": {},
     "output_type": "execute_result"
    }
   ],
   "source": [
    "s1 - s2 # 차집합"
   ],
   "metadata": {
    "collapsed": false,
    "ExecuteTime": {
     "end_time": "2024-07-18T07:12:26.469103400Z",
     "start_time": "2024-07-18T07:12:26.438022800Z"
    }
   },
   "id": "5e232b69e0b79d4f"
  },
  {
   "cell_type": "code",
   "execution_count": 65,
   "outputs": [
    {
     "data": {
      "text/plain": "{4}"
     },
     "execution_count": 65,
     "metadata": {},
     "output_type": "execute_result"
    }
   ],
   "source": [
    "s1 & s2 # 교집합\n",
    "s1.intersection(s2) # 교집합"
   ],
   "metadata": {
    "collapsed": false,
    "ExecuteTime": {
     "end_time": "2024-07-18T07:12:37.612676900Z",
     "start_time": "2024-07-18T07:12:37.572353900Z"
    }
   },
   "id": "81c12b1963b6b561"
  },
  {
   "cell_type": "code",
   "execution_count": 69,
   "outputs": [
    {
     "data": {
      "text/plain": "{0, 1, 4, 5, 6, 7}"
     },
     "execution_count": 69,
     "metadata": {},
     "output_type": "execute_result"
    }
   ],
   "source": [
    "# s1 | s2 # 합집합 \n",
    "s1.union(s2) # 합집합"
   ],
   "metadata": {
    "collapsed": false,
    "ExecuteTime": {
     "end_time": "2024-07-18T07:13:31.260649900Z",
     "start_time": "2024-07-18T07:13:31.237182500Z"
    }
   },
   "id": "29a020255b623956"
  }
 ],
 "metadata": {
  "kernelspec": {
   "display_name": "Python 3",
   "language": "python",
   "name": "python3"
  },
  "language_info": {
   "codemirror_mode": {
    "name": "ipython",
    "version": 2
   },
   "file_extension": ".py",
   "mimetype": "text/x-python",
   "name": "python",
   "nbconvert_exporter": "python",
   "pygments_lexer": "ipython2",
   "version": "2.7.6"
  }
 },
 "nbformat": 4,
 "nbformat_minor": 5
}
